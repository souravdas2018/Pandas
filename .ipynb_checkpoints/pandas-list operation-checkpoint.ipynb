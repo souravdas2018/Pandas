{
 "cells": [
  {
   "cell_type": "code",
   "execution_count": 1,
   "id": "649d3652",
   "metadata": {},
   "outputs": [],
   "source": [
    "import pandas as pd"
   ]
  },
  {
   "cell_type": "code",
   "execution_count": 2,
   "id": "227c801c",
   "metadata": {},
   "outputs": [
    {
     "data": {
      "text/html": [
       "<div>\n",
       "<style scoped>\n",
       "    .dataframe tbody tr th:only-of-type {\n",
       "        vertical-align: middle;\n",
       "    }\n",
       "\n",
       "    .dataframe tbody tr th {\n",
       "        vertical-align: top;\n",
       "    }\n",
       "\n",
       "    .dataframe thead th {\n",
       "        text-align: right;\n",
       "    }\n",
       "</style>\n",
       "<table border=\"1\" class=\"dataframe\">\n",
       "  <thead>\n",
       "    <tr style=\"text-align: right;\">\n",
       "      <th></th>\n",
       "      <th>PassengerId</th>\n",
       "      <th>Survived</th>\n",
       "      <th>Pclass</th>\n",
       "      <th>Name</th>\n",
       "      <th>Sex</th>\n",
       "      <th>Age</th>\n",
       "      <th>SibSp</th>\n",
       "      <th>Parch</th>\n",
       "      <th>Ticket</th>\n",
       "      <th>Fare</th>\n",
       "      <th>Cabin</th>\n",
       "      <th>Embarked</th>\n",
       "    </tr>\n",
       "  </thead>\n",
       "  <tbody>\n",
       "    <tr>\n",
       "      <th>0</th>\n",
       "      <td>1</td>\n",
       "      <td>0</td>\n",
       "      <td>3</td>\n",
       "      <td>Braund, Mr. Owen Harris</td>\n",
       "      <td>male</td>\n",
       "      <td>22.0</td>\n",
       "      <td>1</td>\n",
       "      <td>0</td>\n",
       "      <td>A/5 21171</td>\n",
       "      <td>7.2500</td>\n",
       "      <td>NaN</td>\n",
       "      <td>S</td>\n",
       "    </tr>\n",
       "    <tr>\n",
       "      <th>1</th>\n",
       "      <td>2</td>\n",
       "      <td>1</td>\n",
       "      <td>1</td>\n",
       "      <td>Cumings, Mrs. John Bradley (Florence Briggs Th...</td>\n",
       "      <td>female</td>\n",
       "      <td>38.0</td>\n",
       "      <td>1</td>\n",
       "      <td>0</td>\n",
       "      <td>PC 17599</td>\n",
       "      <td>71.2833</td>\n",
       "      <td>C85</td>\n",
       "      <td>C</td>\n",
       "    </tr>\n",
       "    <tr>\n",
       "      <th>2</th>\n",
       "      <td>3</td>\n",
       "      <td>1</td>\n",
       "      <td>3</td>\n",
       "      <td>Heikkinen, Miss. Laina</td>\n",
       "      <td>female</td>\n",
       "      <td>26.0</td>\n",
       "      <td>0</td>\n",
       "      <td>0</td>\n",
       "      <td>STON/O2. 3101282</td>\n",
       "      <td>7.9250</td>\n",
       "      <td>NaN</td>\n",
       "      <td>S</td>\n",
       "    </tr>\n",
       "    <tr>\n",
       "      <th>3</th>\n",
       "      <td>4</td>\n",
       "      <td>1</td>\n",
       "      <td>1</td>\n",
       "      <td>Futrelle, Mrs. Jacques Heath (Lily May Peel)</td>\n",
       "      <td>female</td>\n",
       "      <td>35.0</td>\n",
       "      <td>1</td>\n",
       "      <td>0</td>\n",
       "      <td>113803</td>\n",
       "      <td>53.1000</td>\n",
       "      <td>C123</td>\n",
       "      <td>S</td>\n",
       "    </tr>\n",
       "    <tr>\n",
       "      <th>4</th>\n",
       "      <td>5</td>\n",
       "      <td>0</td>\n",
       "      <td>3</td>\n",
       "      <td>Allen, Mr. William Henry</td>\n",
       "      <td>male</td>\n",
       "      <td>35.0</td>\n",
       "      <td>0</td>\n",
       "      <td>0</td>\n",
       "      <td>373450</td>\n",
       "      <td>8.0500</td>\n",
       "      <td>NaN</td>\n",
       "      <td>S</td>\n",
       "    </tr>\n",
       "  </tbody>\n",
       "</table>\n",
       "</div>"
      ],
      "text/plain": [
       "   PassengerId  Survived  Pclass  \\\n",
       "0            1         0       3   \n",
       "1            2         1       1   \n",
       "2            3         1       3   \n",
       "3            4         1       1   \n",
       "4            5         0       3   \n",
       "\n",
       "                                                Name     Sex   Age  SibSp  \\\n",
       "0                            Braund, Mr. Owen Harris    male  22.0      1   \n",
       "1  Cumings, Mrs. John Bradley (Florence Briggs Th...  female  38.0      1   \n",
       "2                             Heikkinen, Miss. Laina  female  26.0      0   \n",
       "3       Futrelle, Mrs. Jacques Heath (Lily May Peel)  female  35.0      1   \n",
       "4                           Allen, Mr. William Henry    male  35.0      0   \n",
       "\n",
       "   Parch            Ticket     Fare Cabin Embarked  \n",
       "0      0         A/5 21171   7.2500   NaN        S  \n",
       "1      0          PC 17599  71.2833   C85        C  \n",
       "2      0  STON/O2. 3101282   7.9250   NaN        S  \n",
       "3      0            113803  53.1000  C123        S  \n",
       "4      0            373450   8.0500   NaN        S  "
      ]
     },
     "execution_count": 2,
     "metadata": {},
     "output_type": "execute_result"
    }
   ],
   "source": [
    "df = pd.read_csv(\"titanic.csv\")\n",
    "df.head()"
   ]
  },
  {
   "cell_type": "code",
   "execution_count": 3,
   "id": "5f43cc44",
   "metadata": {},
   "outputs": [
    {
     "data": {
      "text/plain": [
       "[22.0,\n",
       " 38.0,\n",
       " 26.0,\n",
       " 35.0,\n",
       " 35.0,\n",
       " nan,\n",
       " 54.0,\n",
       " 2.0,\n",
       " 27.0,\n",
       " 14.0,\n",
       " 4.0,\n",
       " 58.0,\n",
       " 20.0,\n",
       " 39.0,\n",
       " 14.0,\n",
       " 55.0,\n",
       " 2.0,\n",
       " nan,\n",
       " 31.0,\n",
       " nan,\n",
       " 35.0,\n",
       " 34.0,\n",
       " 15.0,\n",
       " 28.0,\n",
       " 8.0,\n",
       " 38.0,\n",
       " nan,\n",
       " 19.0,\n",
       " nan,\n",
       " nan,\n",
       " 40.0,\n",
       " nan,\n",
       " nan,\n",
       " 66.0,\n",
       " 28.0,\n",
       " 42.0,\n",
       " nan,\n",
       " 21.0,\n",
       " 18.0,\n",
       " 14.0,\n",
       " 40.0,\n",
       " 27.0,\n",
       " nan,\n",
       " 3.0,\n",
       " 19.0,\n",
       " nan,\n",
       " nan,\n",
       " nan,\n",
       " nan,\n",
       " 18.0,\n",
       " 7.0,\n",
       " 21.0,\n",
       " 49.0,\n",
       " 29.0,\n",
       " 65.0,\n",
       " nan,\n",
       " 21.0,\n",
       " 28.5,\n",
       " 5.0,\n",
       " 11.0,\n",
       " 22.0,\n",
       " 38.0,\n",
       " 45.0,\n",
       " 4.0,\n",
       " nan,\n",
       " nan,\n",
       " 29.0,\n",
       " 19.0,\n",
       " 17.0,\n",
       " 26.0,\n",
       " 32.0,\n",
       " 16.0,\n",
       " 21.0,\n",
       " 26.0,\n",
       " 32.0,\n",
       " 25.0,\n",
       " nan,\n",
       " nan,\n",
       " 0.83,\n",
       " 30.0,\n",
       " 22.0,\n",
       " 29.0,\n",
       " nan,\n",
       " 28.0,\n",
       " 17.0,\n",
       " 33.0,\n",
       " 16.0,\n",
       " nan,\n",
       " 23.0,\n",
       " 24.0,\n",
       " 29.0,\n",
       " 20.0,\n",
       " 46.0,\n",
       " 26.0,\n",
       " 59.0,\n",
       " nan,\n",
       " 71.0,\n",
       " 23.0,\n",
       " 34.0,\n",
       " 34.0,\n",
       " 28.0,\n",
       " nan,\n",
       " 21.0,\n",
       " 33.0,\n",
       " 37.0,\n",
       " 28.0,\n",
       " 21.0,\n",
       " nan,\n",
       " 38.0,\n",
       " nan,\n",
       " 47.0,\n",
       " 14.5,\n",
       " 22.0,\n",
       " 20.0,\n",
       " 17.0,\n",
       " 21.0,\n",
       " 70.5,\n",
       " 29.0,\n",
       " 24.0,\n",
       " 2.0,\n",
       " 21.0,\n",
       " nan,\n",
       " 32.5,\n",
       " 32.5,\n",
       " 54.0,\n",
       " 12.0,\n",
       " nan,\n",
       " 24.0,\n",
       " nan,\n",
       " 45.0,\n",
       " 33.0,\n",
       " 20.0,\n",
       " 47.0,\n",
       " 29.0,\n",
       " 25.0,\n",
       " 23.0,\n",
       " 19.0,\n",
       " 37.0,\n",
       " 16.0,\n",
       " 24.0,\n",
       " nan,\n",
       " 22.0,\n",
       " 24.0,\n",
       " 19.0,\n",
       " 18.0,\n",
       " 19.0,\n",
       " 27.0,\n",
       " 9.0,\n",
       " 36.5,\n",
       " 42.0,\n",
       " 51.0,\n",
       " 22.0,\n",
       " 55.5,\n",
       " 40.5,\n",
       " nan,\n",
       " 51.0,\n",
       " 16.0,\n",
       " 30.0,\n",
       " nan,\n",
       " nan,\n",
       " 44.0,\n",
       " 40.0,\n",
       " 26.0,\n",
       " 17.0,\n",
       " 1.0,\n",
       " 9.0,\n",
       " nan,\n",
       " 45.0,\n",
       " nan,\n",
       " 28.0,\n",
       " 61.0,\n",
       " 4.0,\n",
       " 1.0,\n",
       " 21.0,\n",
       " 56.0,\n",
       " 18.0,\n",
       " nan,\n",
       " 50.0,\n",
       " 30.0,\n",
       " 36.0,\n",
       " nan,\n",
       " nan,\n",
       " 9.0,\n",
       " 1.0,\n",
       " 4.0,\n",
       " nan,\n",
       " nan,\n",
       " 45.0,\n",
       " 40.0,\n",
       " 36.0,\n",
       " 32.0,\n",
       " 19.0,\n",
       " 19.0,\n",
       " 3.0,\n",
       " 44.0,\n",
       " 58.0,\n",
       " nan,\n",
       " 42.0,\n",
       " nan,\n",
       " 24.0,\n",
       " 28.0,\n",
       " nan,\n",
       " 34.0,\n",
       " 45.5,\n",
       " 18.0,\n",
       " 2.0,\n",
       " 32.0,\n",
       " 26.0,\n",
       " 16.0,\n",
       " 40.0,\n",
       " 24.0,\n",
       " 35.0,\n",
       " 22.0,\n",
       " 30.0,\n",
       " nan,\n",
       " 31.0,\n",
       " 27.0,\n",
       " 42.0,\n",
       " 32.0,\n",
       " 30.0,\n",
       " 16.0,\n",
       " 27.0,\n",
       " 51.0,\n",
       " nan,\n",
       " 38.0,\n",
       " 22.0,\n",
       " 19.0,\n",
       " 20.5,\n",
       " 18.0,\n",
       " nan,\n",
       " 35.0,\n",
       " 29.0,\n",
       " 59.0,\n",
       " 5.0,\n",
       " 24.0,\n",
       " nan,\n",
       " 44.0,\n",
       " 8.0,\n",
       " 19.0,\n",
       " 33.0,\n",
       " nan,\n",
       " nan,\n",
       " 29.0,\n",
       " 22.0,\n",
       " 30.0,\n",
       " 44.0,\n",
       " 25.0,\n",
       " 24.0,\n",
       " 37.0,\n",
       " 54.0,\n",
       " nan,\n",
       " 29.0,\n",
       " 62.0,\n",
       " 30.0,\n",
       " 41.0,\n",
       " 29.0,\n",
       " nan,\n",
       " 30.0,\n",
       " 35.0,\n",
       " 50.0,\n",
       " nan,\n",
       " 3.0,\n",
       " 52.0,\n",
       " 40.0,\n",
       " nan,\n",
       " 36.0,\n",
       " 16.0,\n",
       " 25.0,\n",
       " 58.0,\n",
       " 35.0,\n",
       " nan,\n",
       " 25.0,\n",
       " 41.0,\n",
       " 37.0,\n",
       " nan,\n",
       " 63.0,\n",
       " 45.0,\n",
       " nan,\n",
       " 7.0,\n",
       " 35.0,\n",
       " 65.0,\n",
       " 28.0,\n",
       " 16.0,\n",
       " 19.0,\n",
       " nan,\n",
       " 33.0,\n",
       " 30.0,\n",
       " 22.0,\n",
       " 42.0,\n",
       " 22.0,\n",
       " 26.0,\n",
       " 19.0,\n",
       " 36.0,\n",
       " 24.0,\n",
       " 24.0,\n",
       " nan,\n",
       " 23.5,\n",
       " 2.0,\n",
       " nan,\n",
       " 50.0,\n",
       " nan,\n",
       " nan,\n",
       " 19.0,\n",
       " nan,\n",
       " nan,\n",
       " 0.92,\n",
       " nan,\n",
       " 17.0,\n",
       " 30.0,\n",
       " 30.0,\n",
       " 24.0,\n",
       " 18.0,\n",
       " 26.0,\n",
       " 28.0,\n",
       " 43.0,\n",
       " 26.0,\n",
       " 24.0,\n",
       " 54.0,\n",
       " 31.0,\n",
       " 40.0,\n",
       " 22.0,\n",
       " 27.0,\n",
       " 30.0,\n",
       " 22.0,\n",
       " nan,\n",
       " 36.0,\n",
       " 61.0,\n",
       " 36.0,\n",
       " 31.0,\n",
       " 16.0,\n",
       " nan,\n",
       " 45.5,\n",
       " 38.0,\n",
       " 16.0,\n",
       " nan,\n",
       " nan,\n",
       " 29.0,\n",
       " 41.0,\n",
       " 45.0,\n",
       " 45.0,\n",
       " 2.0,\n",
       " 24.0,\n",
       " 28.0,\n",
       " 25.0,\n",
       " 36.0,\n",
       " 24.0,\n",
       " 40.0,\n",
       " nan,\n",
       " 3.0,\n",
       " 42.0,\n",
       " 23.0,\n",
       " nan,\n",
       " 15.0,\n",
       " 25.0,\n",
       " nan,\n",
       " 28.0,\n",
       " 22.0,\n",
       " 38.0,\n",
       " nan,\n",
       " nan,\n",
       " 40.0,\n",
       " 29.0,\n",
       " 45.0,\n",
       " 35.0,\n",
       " nan,\n",
       " 30.0,\n",
       " 60.0,\n",
       " nan,\n",
       " nan,\n",
       " 24.0,\n",
       " 25.0,\n",
       " 18.0,\n",
       " 19.0,\n",
       " 22.0,\n",
       " 3.0,\n",
       " nan,\n",
       " 22.0,\n",
       " 27.0,\n",
       " 20.0,\n",
       " 19.0,\n",
       " 42.0,\n",
       " 1.0,\n",
       " 32.0,\n",
       " 35.0,\n",
       " nan,\n",
       " 18.0,\n",
       " 1.0,\n",
       " 36.0,\n",
       " nan,\n",
       " 17.0,\n",
       " 36.0,\n",
       " 21.0,\n",
       " 28.0,\n",
       " 23.0,\n",
       " 24.0,\n",
       " 22.0,\n",
       " 31.0,\n",
       " 46.0,\n",
       " 23.0,\n",
       " 28.0,\n",
       " 39.0,\n",
       " 26.0,\n",
       " 21.0,\n",
       " 28.0,\n",
       " 20.0,\n",
       " 34.0,\n",
       " 51.0,\n",
       " 3.0,\n",
       " 21.0,\n",
       " nan,\n",
       " nan,\n",
       " nan,\n",
       " 33.0,\n",
       " nan,\n",
       " 44.0,\n",
       " nan,\n",
       " 34.0,\n",
       " 18.0,\n",
       " 30.0,\n",
       " 10.0,\n",
       " nan,\n",
       " 21.0,\n",
       " 29.0,\n",
       " 28.0,\n",
       " 18.0,\n",
       " nan,\n",
       " 28.0,\n",
       " 19.0,\n",
       " nan,\n",
       " 32.0,\n",
       " 28.0,\n",
       " nan,\n",
       " 42.0,\n",
       " 17.0,\n",
       " 50.0,\n",
       " 14.0,\n",
       " 21.0,\n",
       " 24.0,\n",
       " 64.0,\n",
       " 31.0,\n",
       " 45.0,\n",
       " 20.0,\n",
       " 25.0,\n",
       " 28.0,\n",
       " nan,\n",
       " 4.0,\n",
       " 13.0,\n",
       " 34.0,\n",
       " 5.0,\n",
       " 52.0,\n",
       " 36.0,\n",
       " nan,\n",
       " 30.0,\n",
       " 49.0,\n",
       " nan,\n",
       " 29.0,\n",
       " 65.0,\n",
       " nan,\n",
       " 50.0,\n",
       " nan,\n",
       " 48.0,\n",
       " 34.0,\n",
       " 47.0,\n",
       " 48.0,\n",
       " nan,\n",
       " 38.0,\n",
       " nan,\n",
       " 56.0,\n",
       " nan,\n",
       " 0.75,\n",
       " nan,\n",
       " 38.0,\n",
       " 33.0,\n",
       " 23.0,\n",
       " 22.0,\n",
       " nan,\n",
       " 34.0,\n",
       " 29.0,\n",
       " 22.0,\n",
       " 2.0,\n",
       " 9.0,\n",
       " nan,\n",
       " 50.0,\n",
       " 63.0,\n",
       " 25.0,\n",
       " nan,\n",
       " 35.0,\n",
       " 58.0,\n",
       " 30.0,\n",
       " 9.0,\n",
       " nan,\n",
       " 21.0,\n",
       " 55.0,\n",
       " 71.0,\n",
       " 21.0,\n",
       " nan,\n",
       " 54.0,\n",
       " nan,\n",
       " 25.0,\n",
       " 24.0,\n",
       " 17.0,\n",
       " 21.0,\n",
       " nan,\n",
       " 37.0,\n",
       " 16.0,\n",
       " 18.0,\n",
       " 33.0,\n",
       " nan,\n",
       " 28.0,\n",
       " 26.0,\n",
       " 29.0,\n",
       " nan,\n",
       " 36.0,\n",
       " 54.0,\n",
       " 24.0,\n",
       " 47.0,\n",
       " 34.0,\n",
       " nan,\n",
       " 36.0,\n",
       " 32.0,\n",
       " 30.0,\n",
       " 22.0,\n",
       " nan,\n",
       " 44.0,\n",
       " nan,\n",
       " 40.5,\n",
       " 50.0,\n",
       " nan,\n",
       " 39.0,\n",
       " 23.0,\n",
       " 2.0,\n",
       " nan,\n",
       " 17.0,\n",
       " nan,\n",
       " 30.0,\n",
       " 7.0,\n",
       " 45.0,\n",
       " 30.0,\n",
       " nan,\n",
       " 22.0,\n",
       " 36.0,\n",
       " 9.0,\n",
       " 11.0,\n",
       " 32.0,\n",
       " 50.0,\n",
       " 64.0,\n",
       " 19.0,\n",
       " nan,\n",
       " 33.0,\n",
       " 8.0,\n",
       " 17.0,\n",
       " 27.0,\n",
       " nan,\n",
       " 22.0,\n",
       " 22.0,\n",
       " 62.0,\n",
       " 48.0,\n",
       " nan,\n",
       " 39.0,\n",
       " 36.0,\n",
       " nan,\n",
       " 40.0,\n",
       " 28.0,\n",
       " nan,\n",
       " nan,\n",
       " 24.0,\n",
       " 19.0,\n",
       " 29.0,\n",
       " nan,\n",
       " 32.0,\n",
       " 62.0,\n",
       " 53.0,\n",
       " 36.0,\n",
       " nan,\n",
       " 16.0,\n",
       " 19.0,\n",
       " 34.0,\n",
       " 39.0,\n",
       " nan,\n",
       " 32.0,\n",
       " 25.0,\n",
       " 39.0,\n",
       " 54.0,\n",
       " 36.0,\n",
       " nan,\n",
       " 18.0,\n",
       " 47.0,\n",
       " 60.0,\n",
       " 22.0,\n",
       " nan,\n",
       " 35.0,\n",
       " 52.0,\n",
       " 47.0,\n",
       " nan,\n",
       " 37.0,\n",
       " 36.0,\n",
       " nan,\n",
       " 49.0,\n",
       " nan,\n",
       " 49.0,\n",
       " 24.0,\n",
       " nan,\n",
       " nan,\n",
       " 44.0,\n",
       " 35.0,\n",
       " 36.0,\n",
       " 30.0,\n",
       " 27.0,\n",
       " 22.0,\n",
       " 40.0,\n",
       " 39.0,\n",
       " nan,\n",
       " nan,\n",
       " nan,\n",
       " 35.0,\n",
       " 24.0,\n",
       " 34.0,\n",
       " 26.0,\n",
       " 4.0,\n",
       " 26.0,\n",
       " 27.0,\n",
       " 42.0,\n",
       " 20.0,\n",
       " 21.0,\n",
       " 21.0,\n",
       " 61.0,\n",
       " 57.0,\n",
       " 21.0,\n",
       " 26.0,\n",
       " nan,\n",
       " 80.0,\n",
       " 51.0,\n",
       " 32.0,\n",
       " nan,\n",
       " 9.0,\n",
       " 28.0,\n",
       " 32.0,\n",
       " 31.0,\n",
       " 41.0,\n",
       " nan,\n",
       " 20.0,\n",
       " 24.0,\n",
       " 2.0,\n",
       " nan,\n",
       " 0.75,\n",
       " 48.0,\n",
       " 19.0,\n",
       " 56.0,\n",
       " nan,\n",
       " 23.0,\n",
       " nan,\n",
       " 18.0,\n",
       " 21.0,\n",
       " nan,\n",
       " 18.0,\n",
       " 24.0,\n",
       " nan,\n",
       " 32.0,\n",
       " 23.0,\n",
       " 58.0,\n",
       " 50.0,\n",
       " 40.0,\n",
       " 47.0,\n",
       " 36.0,\n",
       " 20.0,\n",
       " 32.0,\n",
       " 25.0,\n",
       " nan,\n",
       " 43.0,\n",
       " nan,\n",
       " 40.0,\n",
       " 31.0,\n",
       " 70.0,\n",
       " 31.0,\n",
       " nan,\n",
       " 18.0,\n",
       " 24.5,\n",
       " 18.0,\n",
       " 43.0,\n",
       " 36.0,\n",
       " nan,\n",
       " 27.0,\n",
       " 20.0,\n",
       " 14.0,\n",
       " 60.0,\n",
       " 25.0,\n",
       " 14.0,\n",
       " 19.0,\n",
       " 18.0,\n",
       " 15.0,\n",
       " 31.0,\n",
       " 4.0,\n",
       " nan,\n",
       " 25.0,\n",
       " 60.0,\n",
       " 52.0,\n",
       " 44.0,\n",
       " nan,\n",
       " 49.0,\n",
       " 42.0,\n",
       " 18.0,\n",
       " 35.0,\n",
       " 18.0,\n",
       " 25.0,\n",
       " 26.0,\n",
       " 39.0,\n",
       " 45.0,\n",
       " 42.0,\n",
       " 22.0,\n",
       " nan,\n",
       " 24.0,\n",
       " nan,\n",
       " 48.0,\n",
       " 29.0,\n",
       " 52.0,\n",
       " 19.0,\n",
       " 38.0,\n",
       " 27.0,\n",
       " nan,\n",
       " 33.0,\n",
       " 6.0,\n",
       " 17.0,\n",
       " 34.0,\n",
       " 50.0,\n",
       " 27.0,\n",
       " 20.0,\n",
       " 30.0,\n",
       " nan,\n",
       " 25.0,\n",
       " 25.0,\n",
       " 29.0,\n",
       " 11.0,\n",
       " nan,\n",
       " 23.0,\n",
       " 23.0,\n",
       " 28.5,\n",
       " 48.0,\n",
       " 35.0,\n",
       " nan,\n",
       " nan,\n",
       " nan,\n",
       " 36.0,\n",
       " 21.0,\n",
       " 24.0,\n",
       " 31.0,\n",
       " 70.0,\n",
       " 16.0,\n",
       " 30.0,\n",
       " 19.0,\n",
       " 31.0,\n",
       " 4.0,\n",
       " 6.0,\n",
       " 33.0,\n",
       " 23.0,\n",
       " 48.0,\n",
       " 0.67,\n",
       " 28.0,\n",
       " 18.0,\n",
       " 34.0,\n",
       " 33.0,\n",
       " nan,\n",
       " 41.0,\n",
       " 20.0,\n",
       " 36.0,\n",
       " 16.0,\n",
       " 51.0,\n",
       " nan,\n",
       " 30.5,\n",
       " nan,\n",
       " 32.0,\n",
       " 24.0,\n",
       " 48.0,\n",
       " 57.0,\n",
       " nan,\n",
       " 54.0,\n",
       " 18.0,\n",
       " nan,\n",
       " 5.0,\n",
       " nan,\n",
       " 43.0,\n",
       " 13.0,\n",
       " 17.0,\n",
       " 29.0,\n",
       " nan,\n",
       " 25.0,\n",
       " 25.0,\n",
       " 18.0,\n",
       " 8.0,\n",
       " 1.0,\n",
       " 46.0,\n",
       " nan,\n",
       " 16.0,\n",
       " nan,\n",
       " nan,\n",
       " 25.0,\n",
       " 39.0,\n",
       " 49.0,\n",
       " 31.0,\n",
       " 30.0,\n",
       " 30.0,\n",
       " 34.0,\n",
       " 31.0,\n",
       " 11.0,\n",
       " 0.42,\n",
       " 27.0,\n",
       " 31.0,\n",
       " 39.0,\n",
       " 18.0,\n",
       " 39.0,\n",
       " 33.0,\n",
       " 26.0,\n",
       " 39.0,\n",
       " 35.0,\n",
       " 6.0,\n",
       " 30.5,\n",
       " nan,\n",
       " 23.0,\n",
       " 31.0,\n",
       " 43.0,\n",
       " 10.0,\n",
       " 52.0,\n",
       " 27.0,\n",
       " 38.0,\n",
       " 27.0,\n",
       " 2.0,\n",
       " nan,\n",
       " nan,\n",
       " 1.0,\n",
       " nan,\n",
       " 62.0,\n",
       " 15.0,\n",
       " 0.83,\n",
       " nan,\n",
       " 23.0,\n",
       " 18.0,\n",
       " 39.0,\n",
       " 21.0,\n",
       " nan,\n",
       " 32.0,\n",
       " nan,\n",
       " 20.0,\n",
       " 16.0,\n",
       " 30.0,\n",
       " 34.5,\n",
       " 17.0,\n",
       " 42.0,\n",
       " nan,\n",
       " 35.0,\n",
       " 28.0,\n",
       " nan,\n",
       " 4.0,\n",
       " 74.0,\n",
       " 9.0,\n",
       " 16.0,\n",
       " 44.0,\n",
       " 18.0,\n",
       " 45.0,\n",
       " 51.0,\n",
       " 24.0,\n",
       " nan,\n",
       " 41.0,\n",
       " 21.0,\n",
       " 48.0,\n",
       " nan,\n",
       " 24.0,\n",
       " 42.0,\n",
       " 27.0,\n",
       " 31.0,\n",
       " nan,\n",
       " 4.0,\n",
       " 26.0,\n",
       " 47.0,\n",
       " 33.0,\n",
       " 47.0,\n",
       " 28.0,\n",
       " 15.0,\n",
       " 20.0,\n",
       " 19.0,\n",
       " nan,\n",
       " 56.0,\n",
       " 25.0,\n",
       " 33.0,\n",
       " 22.0,\n",
       " 28.0,\n",
       " 25.0,\n",
       " 39.0,\n",
       " 27.0,\n",
       " 19.0,\n",
       " nan,\n",
       " 26.0,\n",
       " 32.0]"
      ]
     },
     "execution_count": 3,
     "metadata": {},
     "output_type": "execute_result"
    }
   ],
   "source": [
    "age = df[df['Age'] == 22]\n",
    "age[['Name', 'Age']].head()\n",
    "\n",
    "df['Age'].unique()\n",
    "\n",
    "lst = list(df['Age'])\n",
    "lst"
   ]
  },
  {
   "cell_type": "code",
   "execution_count": 4,
   "id": "cd6257f2",
   "metadata": {},
   "outputs": [
    {
     "data": {
      "text/plain": [
       "True"
      ]
     },
     "execution_count": 4,
     "metadata": {},
     "output_type": "execute_result"
    }
   ],
   "source": [
    "# 1. Check if a list contains an element\n",
    "14 in lst"
   ]
  },
  {
   "cell_type": "code",
   "execution_count": 5,
   "id": "97b7b10c",
   "metadata": {
    "scrolled": true
   },
   "outputs": [
    {
     "name": "stdout",
     "output_type": "stream",
     "text": [
      "Braund, Mr. Owen Harris is 22.0 is male\n",
      "Cumings, Mrs. John Bradley (Florence Briggs Thayer) is 38.0 is female\n",
      "Heikkinen, Miss. Laina is 26.0 is female\n",
      "Futrelle, Mrs. Jacques Heath (Lily May Peel) is 35.0 is female\n",
      "Allen, Mr. William Henry is 35.0 is male\n"
     ]
    }
   ],
   "source": [
    "# 2. How to iterate over 2+ lists at the same time\n",
    "name = df['Name'].head()\n",
    "age = df['Age'].head()\n",
    "sex = df['Sex'].head()\n",
    "z = zip(name, age, sex)\n",
    "for name,age, sex in z:\n",
    "    print(\"%s is %s is %s\" % (name,age, sex))"
   ]
  },
  {
   "cell_type": "code",
   "execution_count": 5,
   "id": "087f84c7",
   "metadata": {},
   "outputs": [
    {
     "data": {
      "text/plain": [
       "[['Braund, Mr. Owen Harris',\n",
       "  'Cumings, Mrs. John Bradley (Florence Briggs Thayer)',\n",
       "  'Heikkinen, Miss. Laina',\n",
       "  'Futrelle, Mrs. Jacques Heath (Lily May Peel)',\n",
       "  'Allen, Mr. William Henry'],\n",
       " [22.0, 38.0, 26.0, 35.0, 35.0]]"
      ]
     },
     "execution_count": 5,
     "metadata": {},
     "output_type": "execute_result"
    }
   ],
   "source": [
    "ls_name = list(df['Name'].head())\n",
    "ls_age = list(df['Age'].head())\n",
    "ls_sex = list(df['Sex'].head())\n",
    "\n",
    "new_ls = [ls_name, ls_age]\n",
    "new_ls\n",
    "\n",
    "# len(new_ls)\n",
    "\n",
    "# new_ls = ls_name.append(ls_age)\n",
    "# new_ls\n"
   ]
  },
  {
   "cell_type": "code",
   "execution_count": 129,
   "id": "4aedda33",
   "metadata": {},
   "outputs": [
    {
     "data": {
      "text/plain": [
       "[22.0, 38.0, 26.0, 35.0, 35.0, ['male', 'female', 'female', 'female', 'male']]"
      ]
     },
     "execution_count": 129,
     "metadata": {},
     "output_type": "execute_result"
    }
   ],
   "source": [
    "# 6.extend\n",
    "ls_age = list(df['Age'].head())\n",
    "ls_sex = list(df['Sex'].head())\n",
    "ls_age.append(ls_sex)\n",
    "ls_age"
   ]
  },
  {
   "cell_type": "code",
   "execution_count": 128,
   "id": "3c788f04",
   "metadata": {},
   "outputs": [
    {
     "data": {
      "text/plain": [
       "[22.0, 38.0, 26.0, 35.0, 35.0, 'male', 'female', 'female', 'female', 'male']"
      ]
     },
     "execution_count": 128,
     "metadata": {},
     "output_type": "execute_result"
    }
   ],
   "source": [
    "# 6. append\n",
    "ls_age = list(df['Age'].head())\n",
    "ls_sex = list(df['Sex'].head())\n",
    "ls_age.extend(ls_sex)\n",
    "ls_age"
   ]
  },
  {
   "cell_type": "code",
   "execution_count": 84,
   "id": "b93cc267",
   "metadata": {},
   "outputs": [
    {
     "data": {
      "text/plain": [
       "[nan,\n",
       " nan,\n",
       " 2.0,\n",
       " 35.0,\n",
       " 4.0,\n",
       " 58.0,\n",
       " 38.0,\n",
       " 39.0,\n",
       " nan,\n",
       " 14.0,\n",
       " 20.0,\n",
       " 55.0,\n",
       " 22.0,\n",
       " 54.0,\n",
       " 26.0,\n",
       " 27.0,\n",
       " 31.0]"
      ]
     },
     "execution_count": 84,
     "metadata": {},
     "output_type": "execute_result"
    }
   ],
   "source": [
    "# 10. Remove duplicates from a list\n",
    "list_age = list(df['Age'].head(20))\n",
    "list(set(list_age))"
   ]
  },
  {
   "cell_type": "code",
   "execution_count": 86,
   "id": "4c2c8201",
   "metadata": {},
   "outputs": [
    {
     "data": {
      "text/plain": [
       "[22.0,\n",
       " 38.0,\n",
       " 26.0,\n",
       " 35.0,\n",
       " nan,\n",
       " 54.0,\n",
       " 2.0,\n",
       " 14.0,\n",
       " 4.0,\n",
       " 58.0,\n",
       " 20.0,\n",
       " 39.0,\n",
       " 14.0,\n",
       " 55.0,\n",
       " 2.0,\n",
       " nan,\n",
       " 31.0,\n",
       " nan]"
      ]
     },
     "execution_count": 86,
     "metadata": {},
     "output_type": "execute_result"
    }
   ],
   "source": [
    "# 9.1. “remove”\n",
    "list_age.remove(27)\n",
    "list_age"
   ]
  },
  {
   "cell_type": "code",
   "execution_count": 88,
   "id": "272ad3b3",
   "metadata": {},
   "outputs": [
    {
     "data": {
      "text/plain": [
       "[22.0,\n",
       " 38.0,\n",
       " 26.0,\n",
       " nan,\n",
       " 54.0,\n",
       " 2.0,\n",
       " 14.0,\n",
       " 4.0,\n",
       " 58.0,\n",
       " 20.0,\n",
       " 39.0,\n",
       " 14.0,\n",
       " 55.0,\n",
       " 2.0,\n",
       " nan,\n",
       " 31.0,\n",
       " nan]"
      ]
     },
     "execution_count": 88,
     "metadata": {},
     "output_type": "execute_result"
    }
   ],
   "source": [
    "# 9.2. “pop”\n",
    "list_age.pop(3)\n",
    "list_age"
   ]
  },
  {
   "cell_type": "code",
   "execution_count": 90,
   "id": "e067a399",
   "metadata": {},
   "outputs": [
    {
     "data": {
      "text/plain": [
       "2"
      ]
     },
     "execution_count": 90,
     "metadata": {},
     "output_type": "execute_result"
    }
   ],
   "source": [
    "# 11. index of the 1st matching element\n",
    "list_age.index(26)"
   ]
  },
  {
   "cell_type": "code",
   "execution_count": 96,
   "id": "9fb9e7ce",
   "metadata": {},
   "outputs": [
    {
     "data": {
      "text/plain": [
       "[]"
      ]
     },
     "execution_count": 96,
     "metadata": {},
     "output_type": "execute_result"
    }
   ],
   "source": [
    "# 12. Remove all elements from a list\n",
    "nl = list(df['Age'].head(10))\n",
    "nl.clear()\n",
    "nl"
   ]
  },
  {
   "cell_type": "code",
   "execution_count": 109,
   "id": "90cdb6b2",
   "metadata": {},
   "outputs": [
    {
     "name": "stdout",
     "output_type": "stream",
     "text": [
      "0: 22.0\n",
      "1: 38.0\n",
      "2: 26.0\n",
      "3: 35.0\n",
      "4: 35.0\n"
     ]
    }
   ],
   "source": [
    "# 13. Iterate over both the values in a list and their indices\n",
    "for idx, val in enumerate(ls_age):\n",
    "    print(\"%s: %s\" % (idx, val))"
   ]
  },
  {
   "cell_type": "code",
   "execution_count": 111,
   "id": "a8e15363",
   "metadata": {},
   "outputs": [
    {
     "name": "stdout",
     "output_type": "stream",
     "text": [
      "['Braund, Mr. Owen Harris', 'Cumings, Mrs. John Bradley (Florence Briggs Thayer)', 'Heikkinen, Miss. Laina', 'Futrelle, Mrs. Jacques Heath (Lily May Peel)', 'Allen, Mr. William Henry', 22.0, 38.0, 26.0, 35.0, 35.0]\n"
     ]
    }
   ],
   "source": [
    "# 14. How to concatenate two lists\n",
    "print(ls_name + ls_age)"
   ]
  },
  {
   "cell_type": "code",
   "execution_count": 115,
   "id": "68f9975c",
   "metadata": {},
   "outputs": [
    {
     "name": "stdout",
     "output_type": "stream",
     "text": [
      "[22.0, 38.0, 26.0, 35.0, 35.0]\n"
     ]
    }
   ],
   "source": [
    "# 15. manipulate every element in a list with list comprehension\n",
    "print(ls_age)\n",
    "[i+1 for i in ls_age]"
   ]
  },
  {
   "cell_type": "code",
   "execution_count": 116,
   "id": "6edfbf25",
   "metadata": {},
   "outputs": [
    {
     "data": {
      "text/plain": [
       "2"
      ]
     },
     "execution_count": 116,
     "metadata": {},
     "output_type": "execute_result"
    }
   ],
   "source": [
    "# 16. Count the occurrence of a specific object in a list\n",
    "ls_age.count(35)"
   ]
  },
  {
   "cell_type": "code",
   "execution_count": 118,
   "id": "25dba96d",
   "metadata": {},
   "outputs": [
    {
     "name": "stdout",
     "output_type": "stream",
     "text": [
      "['Braund, Mr. Owen Harris', 'Cumings, Mrs. John Bradley (Florence Briggs Thayer)', 'Heikkinen, Miss. Laina', 'Futrelle, Mrs. Jacques Heath (Lily May Peel)', 'Allen, Mr. William Henry']\n"
     ]
    },
    {
     "data": {
      "text/plain": [
       "['Braund, Mr. Owen Harris',\n",
       " 'Cumings, Mrs. John Bradley (Florence Briggs Thayer)',\n",
       " 'Heikkinen, Miss. Laina',\n",
       " 'Futrelle, Mrs. Jacques Heath (Lily May Peel)',\n",
       " 'Allen, Mr. William Henry']"
      ]
     },
     "execution_count": 118,
     "metadata": {},
     "output_type": "execute_result"
    }
   ],
   "source": [
    "# 17. copy a list\n",
    "print(ls_name)\n",
    "ls_name_copy = ls_name.copy()\n",
    "ls_name_copy"
   ]
  },
  {
   "cell_type": "code",
   "execution_count": 120,
   "id": "ccd1fed8",
   "metadata": {},
   "outputs": [
    {
     "name": "stdout",
     "output_type": "stream",
     "text": [
      "5\n"
     ]
    }
   ],
   "source": [
    "# 22. Return the length of a list\n",
    "print(len(ls_age))"
   ]
  },
  {
   "cell_type": "code",
   "execution_count": 45,
   "id": "a1fa2c75",
   "metadata": {},
   "outputs": [
    {
     "name": "stdout",
     "output_type": "stream",
     "text": [
      "[22.0, 38.0, 26.0, 35.0, 35.0]\n"
     ]
    },
    {
     "data": {
      "text/plain": [
       "False"
      ]
     },
     "execution_count": 45,
     "metadata": {},
     "output_type": "execute_result"
    }
   ],
   "source": [
    "# 24. How to check if an element is not in a list?\n",
    "print(ls_age)\n",
    "38 not in ls_age\n",
    "# 55 in ls_age"
   ]
  },
  {
   "cell_type": "code",
   "execution_count": 44,
   "id": "ede29150",
   "metadata": {},
   "outputs": [
    {
     "data": {
      "text/plain": [
       "[110.0, 190.0, 130.0, 175.0, 175.0]"
      ]
     },
     "execution_count": 44,
     "metadata": {},
     "output_type": "execute_result"
    }
   ],
   "source": [
    "# 25. Multiply every element in a list by 5 with the map function\n",
    "def multiply_5(ls_age):\n",
    "    return ls_age * 5\n",
    "[val for val in map(multiply_5, ls_age)] "
   ]
  },
  {
   "cell_type": "code",
   "execution_count": 129,
   "id": "868c7f95",
   "metadata": {},
   "outputs": [
    {
     "data": {
      "text/plain": [
       "[(22.0, 'Braund, Mr. Owen Harris', 'male'),\n",
       " (38.0, 'Cumings, Mrs. John Bradley (Florence Briggs Thayer)', 'female'),\n",
       " (26.0, 'Heikkinen, Miss. Laina', 'female'),\n",
       " (35.0, 'Futrelle, Mrs. Jacques Heath (Lily May Peel)', 'female'),\n",
       " (35.0, 'Allen, Mr. William Henry', 'male')]"
      ]
     },
     "execution_count": 129,
     "metadata": {},
     "output_type": "execute_result"
    }
   ],
   "source": [
    "# 26. Combine 2 lists into a list of tuples with the zip function\n",
    "list(zip(ls_age, ls_name, ls_sex))"
   ]
  },
  {
   "cell_type": "code",
   "execution_count": 130,
   "id": "3eee1a07",
   "metadata": {},
   "outputs": [
    {
     "data": {
      "text/plain": [
       "[22.0, 38.0, 'HERE', 26.0, 35.0, 35.0]"
      ]
     },
     "execution_count": 130,
     "metadata": {},
     "output_type": "execute_result"
    }
   ],
   "source": [
    "# 27. Insert a value at a specific index in an existing list\n",
    "ls_age.insert(2, 'HERE')\n",
    "ls_age"
   ]
  },
  {
   "cell_type": "code",
   "execution_count": 133,
   "id": "28ed2765",
   "metadata": {},
   "outputs": [
    {
     "data": {
      "text/plain": [
       "[22.0, 38.0, 26.0, 35.0, 35.0]"
      ]
     },
     "execution_count": 133,
     "metadata": {},
     "output_type": "execute_result"
    }
   ],
   "source": [
    "ls_age.remove('HERE')\n",
    "ls_age"
   ]
  },
  {
   "cell_type": "code",
   "execution_count": 134,
   "id": "3e6737b0",
   "metadata": {},
   "outputs": [
    {
     "data": {
      "text/plain": [
       "[38.0, 35.0, 35.0]"
      ]
     },
     "execution_count": 134,
     "metadata": {},
     "output_type": "execute_result"
    }
   ],
   "source": [
    "# 29. Remove negative values from a list with the filter function\n",
    "def remove_negatives(x):\n",
    "    return True if x >= 35 else False\n",
    "[x for x in filter(remove_negatives, ls_age)] "
   ]
  },
  {
   "cell_type": "code",
   "execution_count": 16,
   "id": "106a7a56",
   "metadata": {},
   "outputs": [
    {
     "data": {
      "text/plain": [
       "{22.0: 1, 38.0: 1, 26.0: 1, 35.0: 1}"
      ]
     },
     "execution_count": 16,
     "metadata": {},
     "output_type": "execute_result"
    }
   ],
   "source": [
    "# 30. Convert a list into a dictionary where list elements are keys\n",
    "{k:1 for k in ls_age}"
   ]
  },
  {
   "cell_type": "code",
   "execution_count": 15,
   "id": "99dfffc8",
   "metadata": {},
   "outputs": [
    {
     "data": {
      "text/plain": [
       "[110.0, 190.0, 130.0, 175.0, 175.0]"
      ]
     },
     "execution_count": 15,
     "metadata": {},
     "output_type": "execute_result"
    }
   ],
   "source": [
    "# 31. Modify an existing list with a lambda function\n",
    "list(map(lambda val:val*5, ls_age))"
   ]
  },
  {
   "cell_type": "code",
   "execution_count": 23,
   "id": "167a766d",
   "metadata": {},
   "outputs": [
    {
     "name": "stdout",
     "output_type": "stream",
     "text": [
      "[22.0, 38.0, 26.0, 35.0, 35.0, nan, 54.0, 2.0, 27.0, 14.0]\n"
     ]
    },
    {
     "data": {
      "text/plain": [
       "[22.0, 38.0, 26.0, 35.0, 35.0, nan]"
      ]
     },
     "execution_count": 23,
     "metadata": {},
     "output_type": "execute_result"
    }
   ],
   "source": [
    "# 32. Remove elements in a list after a specific index\n",
    "age = list(df['Age'].head(10))\n",
    "print(age)\n",
    "age[:6]"
   ]
  },
  {
   "cell_type": "code",
   "execution_count": 25,
   "id": "38601618",
   "metadata": {},
   "outputs": [
    {
     "name": "stdout",
     "output_type": "stream",
     "text": [
      "[22.0, 38.0, 26.0, 35.0, 35.0, nan, 54.0, 2.0, 27.0, 14.0]\n"
     ]
    },
    {
     "data": {
      "text/plain": [
       "[54.0, 2.0, 27.0, 14.0]"
      ]
     },
     "execution_count": 25,
     "metadata": {},
     "output_type": "execute_result"
    }
   ],
   "source": [
    "# 33. Remove elements in a list before a specific index\n",
    "age = list(df['Age'].head(10))\n",
    "print(age)\n",
    "age[6:]"
   ]
  },
  {
   "cell_type": "code",
   "execution_count": 28,
   "id": "127236c4",
   "metadata": {},
   "outputs": [
    {
     "name": "stdout",
     "output_type": "stream",
     "text": [
      "[22.0, 38.0, 26.0, 35.0, 35.0, nan, 54.0, 2.0, 27.0, 14.0]\n"
     ]
    },
    {
     "data": {
      "text/plain": [
       "[35.0, nan, 54.0]"
      ]
     },
     "execution_count": 28,
     "metadata": {},
     "output_type": "execute_result"
    }
   ],
   "source": [
    "# 34. Remove elements in a list between 2 indices\n",
    "age = list(df['Age'].head(10))\n",
    "print(age)\n",
    "age[4:7]"
   ]
  },
  {
   "cell_type": "code",
   "execution_count": 29,
   "id": "a8b0c98f",
   "metadata": {},
   "outputs": [
    {
     "name": "stdout",
     "output_type": "stream",
     "text": [
      "[22.0, 38.0, 26.0, 35.0, 35.0, nan, 54.0, 2.0, 27.0, 14.0]\n"
     ]
    },
    {
     "data": {
      "text/plain": [
       "[26.0]"
      ]
     },
     "execution_count": 29,
     "metadata": {},
     "output_type": "execute_result"
    }
   ],
   "source": [
    "# 35. Return every 2nd element in a list between 2 indices\n",
    "age = list(df['Age'].head(10))\n",
    "print(age)\n",
    "age[2:4:7]"
   ]
  },
  {
   "cell_type": "code",
   "execution_count": 46,
   "id": "594c9252",
   "metadata": {},
   "outputs": [
    {
     "data": {
      "text/plain": [
       "[35.0, 35.0, nan, 27.0]"
      ]
     },
     "execution_count": 46,
     "metadata": {},
     "output_type": "execute_result"
    }
   ],
   "source": [
    "# 38. Filter even values out of a list with list comprehension\n",
    "age2 = list(df['Age'].head(10))\n",
    "[i for i in age2 if i % 2 != 0]"
   ]
  },
  {
   "cell_type": "code",
   "execution_count": 50,
   "id": "5a133565",
   "metadata": {},
   "outputs": [
    {
     "data": {
      "text/plain": [
       "Counter({22.0: 1,\n",
       "         38.0: 1,\n",
       "         26.0: 1,\n",
       "         35.0: 2,\n",
       "         nan: 1,\n",
       "         54.0: 1,\n",
       "         2.0: 1,\n",
       "         27.0: 1,\n",
       "         14.0: 1})"
      ]
     },
     "execution_count": 50,
     "metadata": {},
     "output_type": "execute_result"
    }
   ],
   "source": [
    "# 39. Count occurrences of each value in a list\n",
    "# from collections import Counter\n",
    "age2 = list(df['Age'].head(10))\n",
    "Counter(age2)"
   ]
  },
  {
   "cell_type": "code",
   "execution_count": 55,
   "id": "9d087613",
   "metadata": {},
   "outputs": [
    {
     "data": {
      "text/plain": [
       "['Braund, Mr. Owen Harris', 22.0, 'male']"
      ]
     },
     "execution_count": 55,
     "metadata": {},
     "output_type": "execute_result"
    }
   ],
   "source": [
    "# 40. Get the first element from each nested list in a list\n",
    "ls_name1 = list(df['Name'].head(3))\n",
    "ls_age1 = list(df['Age'].head(3))\n",
    "ls_sex1 = list(df['Sex'].head(3))\n",
    "l = [ls_name1, ls_age1, ls_sex1]\n",
    "l\n",
    "[i[0] for i in l]"
   ]
  },
  {
   "cell_type": "code",
   "execution_count": 56,
   "id": "144f97e1",
   "metadata": {},
   "outputs": [
    {
     "data": {
      "text/plain": [
       "'Braund, Mr. Owen Harris Cumings, Mrs. John Bradley (Florence Briggs Thayer) Heikkinen, Miss. Laina'"
      ]
     },
     "execution_count": 56,
     "metadata": {},
     "output_type": "execute_result"
    }
   ],
   "source": [
    "# 42. Combine elements in a list into a single string.\n",
    "' '.join(ls_name1)"
   ]
  },
  {
   "cell_type": "code",
   "execution_count": 58,
   "id": "810527cd",
   "metadata": {},
   "outputs": [
    {
     "data": {
      "text/plain": [
       "[22.0, 38.0, 26.0, 22.0, 38.0, 26.0, 22.0, 38.0, 26.0]"
      ]
     },
     "execution_count": 58,
     "metadata": {},
     "output_type": "execute_result"
    }
   ],
   "source": [
    "# 43. What’s the affect of multiplying a list by an integer?\n",
    "ls_age1 *3"
   ]
  },
  {
   "cell_type": "code",
   "execution_count": 63,
   "id": "0925a38f",
   "metadata": {},
   "outputs": [
    {
     "data": {
      "text/plain": [
       "True"
      ]
     },
     "execution_count": 63,
     "metadata": {},
     "output_type": "execute_result"
    }
   ],
   "source": [
    "# 44. Use the “any” function to return True if any value in a list is divisible by 2\n",
    "l1 = ls_age1 *3\n",
    "l2 = [1,3]\n",
    "any(i % 2 == 0 for i in l1) \n",
    "# any(i % 2 == 0 for i in l2)"
   ]
  },
  {
   "cell_type": "code",
   "execution_count": 71,
   "id": "ce72ebeb",
   "metadata": {},
   "outputs": [
    {
     "data": {
      "text/plain": [
       "False"
      ]
     },
     "execution_count": 71,
     "metadata": {},
     "output_type": "execute_result"
    }
   ],
   "source": [
    "# 45. Use the “all” function to return True if all values in a list are negative\n",
    "li1 = [2,3,4]\n",
    "li2 = [2,4]\n",
    "all(i % 2 == 0 for i in li1)\n",
    "# all(i % 2 == 0 for i in li2)"
   ]
  },
  {
   "cell_type": "code",
   "execution_count": 11,
   "id": "f86772fb",
   "metadata": {},
   "outputs": [
    {
     "name": "stdout",
     "output_type": "stream",
     "text": [
      "[1, 2, 3, 4, 5, 6, 7, 8, 9, 10, 11, 12, 13, 14, 15]\n",
      "[1, 2, 3, 4, 5, 6, 7, 8, 9, 10, 11, 12, 13, 14, 15, 'abcd']\n"
     ]
    }
   ],
   "source": [
    "# 47. What kind of copy would the list constructor create from an existing list?\n",
    "ls_pid = list(df['PassengerId'].head(15))\n",
    "li = list(ls_pid)\n",
    "li.append('abcd')\n",
    "print(ls_pid)\n",
    "print(li)"
   ]
  },
  {
   "cell_type": "code",
   "execution_count": 9,
   "id": "1f7f1279",
   "metadata": {},
   "outputs": [
    {
     "name": "stdout",
     "output_type": "stream",
     "text": [
      "[1, 2, 3, 4, 5, 6, 7, 8, 9, 10, 11, 12, 13, 14, 15]\n"
     ]
    },
    {
     "data": {
      "text/plain": [
       "[15, 14, 13, 12, 11, 10, 9, 8, 7, 6, 5, 4, 3, 2, 1]"
      ]
     },
     "execution_count": 9,
     "metadata": {},
     "output_type": "execute_result"
    }
   ],
   "source": [
    "# 48. Reverse the order of a list\n",
    "ls_pid = list(df['PassengerId'].head(15))\n",
    "print(ls_pid)\n",
    "ls_pid.reverse()\n",
    "ls_pid"
   ]
  },
  {
   "cell_type": "code",
   "execution_count": 20,
   "id": "2f948e9f",
   "metadata": {},
   "outputs": [
    {
     "name": "stdout",
     "output_type": "stream",
     "text": [
      "[1, 2, 3, 4, 5, 6, 7, 8, 9, 10, 11, 12, 13, 14, 15]\n"
     ]
    },
    {
     "data": {
      "text/plain": [
       "[15, 14, 13, 12, 11, 10, 9, 8, 7, 6, 5, 4, 3, 2, 1]"
      ]
     },
     "execution_count": 20,
     "metadata": {},
     "output_type": "execute_result"
    }
   ],
   "source": [
    "# 49. What is the difference between reverse and reversed?\n",
    "ls_pid = list(df['PassengerId'].head(15))\n",
    "print(ls_pid)\n",
    "l = list(reversed(ls_pid))\n",
    "l"
   ]
  },
  {
   "cell_type": "code",
   "execution_count": 23,
   "id": "4375ebd4",
   "metadata": {},
   "outputs": [
    {
     "name": "stdout",
     "output_type": "stream",
     "text": [
      "[15, 14, 13, 12, 11, 10, 9, 8, 7, 6, 5, 4, 3, 2, 1]\n"
     ]
    },
    {
     "data": {
      "text/plain": [
       "[1, 2, 3, 4, 5, 6, 7, 8, 9, 10, 11, 12, 13, 14, 15]"
      ]
     },
     "execution_count": 23,
     "metadata": {},
     "output_type": "execute_result"
    }
   ],
   "source": [
    "# 50. What is the difference between sort and sorted?\n",
    "# print(l)\n",
    "# l.sort()\n",
    "# l\n",
    "\n",
    "print(l)\n",
    "ls = sorted(l)\n",
    "ls"
   ]
  },
  {
   "cell_type": "code",
   "execution_count": 24,
   "id": "29fcb673",
   "metadata": {},
   "outputs": [
    {
     "data": {
      "text/plain": [
       "1"
      ]
     },
     "execution_count": 24,
     "metadata": {},
     "output_type": "execute_result"
    }
   ],
   "source": [
    "# 51. Return the minimum value in a list\n",
    "ls_pid = list(df['PassengerId'].head(15))\n",
    "min(ls_pid)"
   ]
  },
  {
   "cell_type": "code",
   "execution_count": 25,
   "id": "50d803eb",
   "metadata": {},
   "outputs": [
    {
     "data": {
      "text/plain": [
       "15"
      ]
     },
     "execution_count": 25,
     "metadata": {},
     "output_type": "execute_result"
    }
   ],
   "source": [
    "# 52. Return the maximum value in a list\n",
    "ls_pid = list(df['PassengerId'].head(15))\n",
    "max(ls_pid)"
   ]
  },
  {
   "cell_type": "code",
   "execution_count": 26,
   "id": "0367f475",
   "metadata": {},
   "outputs": [
    {
     "data": {
      "text/plain": [
       "120"
      ]
     },
     "execution_count": 26,
     "metadata": {},
     "output_type": "execute_result"
    }
   ],
   "source": [
    "# 53. Return the sum of values in a list\n",
    "ls_pid = list(df['PassengerId'].head(15))\n",
    "sum(ls_pid)"
   ]
  },
  {
   "cell_type": "code",
   "execution_count": 31,
   "id": "afbd4a52",
   "metadata": {},
   "outputs": [
    {
     "name": "stdout",
     "output_type": "stream",
     "text": [
      "[1, 2, 3, 4, 5, 6, 7, 8, 9, 10, 'Jess', 'Todd', 'Yuan']\n",
      "Yuan\n",
      "[1, 2, 3, 4, 5, 6, 7, 8, 9, 10, 'Jess', 'Todd']\n"
     ]
    }
   ],
   "source": [
    "# 54. Use a list as a stack\n",
    "ls_pid = list(df['PassengerId'].head(10))\n",
    "ls_pid.append('Jess')\n",
    "ls_pid.append('Todd')\n",
    "ls_pid.append('Yuan')\n",
    "print(ls_pid)\n",
    "print(ls_pid.pop())\n",
    "print(ls_pid) "
   ]
  },
  {
   "cell_type": "code",
   "execution_count": 32,
   "id": "a59e3127",
   "metadata": {},
   "outputs": [
    {
     "data": {
      "text/plain": [
       "{2, 3}"
      ]
     },
     "execution_count": 32,
     "metadata": {},
     "output_type": "execute_result"
    }
   ],
   "source": [
    "# 55. Find the intersection of 2 lists\n",
    "li1 = [1,2,3]\n",
    "li2 = [2,3,4]\n",
    "set(li1) & set(li2)"
   ]
  },
  {
   "cell_type": "code",
   "execution_count": 42,
   "id": "314793dd",
   "metadata": {},
   "outputs": [
    {
     "name": "stdout",
     "output_type": "stream",
     "text": [
      "{1}\n",
      "{4}\n",
      "{2, 3}\n"
     ]
    }
   ],
   "source": [
    "# 56. Find the difference between a set and another set\n",
    "li1 = [1,2,3]\n",
    "li2 = [2,3,4]\n",
    "print(set(li1) - set(li2))\n",
    "print(set(li2) - set(li1))\n",
    "print(set(li1) & set(li2))"
   ]
  },
  {
   "cell_type": "code",
   "execution_count": 38,
   "id": "7247ef6a",
   "metadata": {},
   "outputs": [
    {
     "data": {
      "text/plain": [
       "[1, 2, 3, 4, 5, 6]"
      ]
     },
     "execution_count": 38,
     "metadata": {},
     "output_type": "execute_result"
    }
   ],
   "source": [
    "# 57. Flatten a list of lists with a list comprehensions\n",
    "li = [[1,2,3],[4,5,6]]\n",
    "[i for x in li for i in x]"
   ]
  },
  {
   "cell_type": "code",
   "execution_count": 39,
   "id": "fa0840be",
   "metadata": {},
   "outputs": [
    {
     "data": {
      "text/plain": [
       "[5, 6, 7, 8, 9]"
      ]
     },
     "execution_count": 39,
     "metadata": {},
     "output_type": "execute_result"
    }
   ],
   "source": [
    "# 58. Generate a list of every integer between 2 values\n",
    "list(range(5,10))"
   ]
  },
  {
   "cell_type": "code",
   "execution_count": 40,
   "id": "90a3937a",
   "metadata": {},
   "outputs": [
    {
     "data": {
      "text/plain": [
       "{'Snowball': 'Cat', 'Chewy': 'Dog', 'Bubbles': 'Fish', 'Gruff': 'Goat'}"
      ]
     },
     "execution_count": 40,
     "metadata": {},
     "output_type": "execute_result"
    }
   ],
   "source": [
    "# 59. Combine 2 lists into a dictionary\n",
    "name = ['Snowball', 'Chewy', 'Bubbles', 'Gruff']\n",
    "animal = ['Cat', 'Dog', 'Fish', 'Goat']\n",
    "dict(zip(name, animal))"
   ]
  },
  {
   "cell_type": "code",
   "execution_count": 41,
   "id": "55fd4237",
   "metadata": {},
   "outputs": [
    {
     "data": {
      "text/plain": [
       "[4, 3, 'b', 'a']"
      ]
     },
     "execution_count": 41,
     "metadata": {},
     "output_type": "execute_result"
    }
   ],
   "source": [
    "# 60. Reverse the order of a list using the slice syntax\n",
    "li = ['a','b',3,4]\n",
    "li[::-1]"
   ]
  },
  {
   "cell_type": "code",
   "execution_count": 123,
   "id": "56f2dbb2",
   "metadata": {},
   "outputs": [
    {
     "name": "stdout",
     "output_type": "stream",
     "text": [
      "0: Braund, Mr. Owen Harris\n",
      "1: Cumings, Mrs. John Bradley (Florence Briggs Thayer)\n",
      "2: Heikkinen, Miss. Laina\n",
      "3: Futrelle, Mrs. Jacques Heath (Lily May Peel)\n",
      "4: Allen, Mr. William Henry\n"
     ]
    }
   ],
   "source": [
    "# 13. Iterate over both the values in a list and their indices\n",
    "ls_name = list(df['Name'].head())\n",
    "for idx,i in enumerate(ls_name):\n",
    "    print(\"%s: %s\" %(idx, i))"
   ]
  },
  {
   "cell_type": "code",
   "execution_count": 49,
   "id": "9d7cd344",
   "metadata": {},
   "outputs": [
    {
     "data": {
      "text/plain": [
       "4"
      ]
     },
     "execution_count": 49,
     "metadata": {},
     "output_type": "execute_result"
    }
   ],
   "source": [
    "ls_name.index('Allen, Mr. William Henry')"
   ]
  },
  {
   "cell_type": "code",
   "execution_count": 12,
   "id": "86fb697c",
   "metadata": {},
   "outputs": [
    {
     "data": {
      "text/html": [
       "<div>\n",
       "<style scoped>\n",
       "    .dataframe tbody tr th:only-of-type {\n",
       "        vertical-align: middle;\n",
       "    }\n",
       "\n",
       "    .dataframe tbody tr th {\n",
       "        vertical-align: top;\n",
       "    }\n",
       "\n",
       "    .dataframe thead th {\n",
       "        text-align: right;\n",
       "    }\n",
       "</style>\n",
       "<table border=\"1\" class=\"dataframe\">\n",
       "  <thead>\n",
       "    <tr style=\"text-align: right;\">\n",
       "      <th></th>\n",
       "      <th>PassengerId</th>\n",
       "      <th>Survived</th>\n",
       "      <th>Pclass</th>\n",
       "      <th>Name</th>\n",
       "      <th>Sex</th>\n",
       "      <th>Age</th>\n",
       "      <th>SibSp</th>\n",
       "      <th>Parch</th>\n",
       "      <th>Ticket</th>\n",
       "      <th>Fare</th>\n",
       "      <th>Cabin</th>\n",
       "      <th>Embarked</th>\n",
       "    </tr>\n",
       "  </thead>\n",
       "  <tbody>\n",
       "    <tr>\n",
       "      <th>0</th>\n",
       "      <td>1</td>\n",
       "      <td>0</td>\n",
       "      <td>3</td>\n",
       "      <td>Braund, Mr. Owen Harris</td>\n",
       "      <td>male</td>\n",
       "      <td>22.0</td>\n",
       "      <td>1</td>\n",
       "      <td>0</td>\n",
       "      <td>A/5 21171</td>\n",
       "      <td>7.2500</td>\n",
       "      <td>NaN</td>\n",
       "      <td>S</td>\n",
       "    </tr>\n",
       "    <tr>\n",
       "      <th>1</th>\n",
       "      <td>2</td>\n",
       "      <td>1</td>\n",
       "      <td>1</td>\n",
       "      <td>Cumings, Mrs. John Bradley (Florence Briggs Th...</td>\n",
       "      <td>female</td>\n",
       "      <td>38.0</td>\n",
       "      <td>1</td>\n",
       "      <td>0</td>\n",
       "      <td>PC 17599</td>\n",
       "      <td>71.2833</td>\n",
       "      <td>C85</td>\n",
       "      <td>C</td>\n",
       "    </tr>\n",
       "    <tr>\n",
       "      <th>2</th>\n",
       "      <td>3</td>\n",
       "      <td>1</td>\n",
       "      <td>3</td>\n",
       "      <td>Heikkinen, Miss. Laina</td>\n",
       "      <td>female</td>\n",
       "      <td>26.0</td>\n",
       "      <td>0</td>\n",
       "      <td>0</td>\n",
       "      <td>STON/O2. 3101282</td>\n",
       "      <td>7.9250</td>\n",
       "      <td>NaN</td>\n",
       "      <td>S</td>\n",
       "    </tr>\n",
       "    <tr>\n",
       "      <th>3</th>\n",
       "      <td>4</td>\n",
       "      <td>1</td>\n",
       "      <td>1</td>\n",
       "      <td>Futrelle, Mrs. Jacques Heath (Lily May Peel)</td>\n",
       "      <td>female</td>\n",
       "      <td>35.0</td>\n",
       "      <td>1</td>\n",
       "      <td>0</td>\n",
       "      <td>113803</td>\n",
       "      <td>53.1000</td>\n",
       "      <td>C123</td>\n",
       "      <td>S</td>\n",
       "    </tr>\n",
       "    <tr>\n",
       "      <th>4</th>\n",
       "      <td>5</td>\n",
       "      <td>0</td>\n",
       "      <td>3</td>\n",
       "      <td>Allen, Mr. William Henry</td>\n",
       "      <td>male</td>\n",
       "      <td>35.0</td>\n",
       "      <td>0</td>\n",
       "      <td>0</td>\n",
       "      <td>373450</td>\n",
       "      <td>8.0500</td>\n",
       "      <td>NaN</td>\n",
       "      <td>S</td>\n",
       "    </tr>\n",
       "  </tbody>\n",
       "</table>\n",
       "</div>"
      ],
      "text/plain": [
       "   PassengerId  Survived  Pclass  \\\n",
       "0            1         0       3   \n",
       "1            2         1       1   \n",
       "2            3         1       3   \n",
       "3            4         1       1   \n",
       "4            5         0       3   \n",
       "\n",
       "                                                Name     Sex   Age  SibSp  \\\n",
       "0                            Braund, Mr. Owen Harris    male  22.0      1   \n",
       "1  Cumings, Mrs. John Bradley (Florence Briggs Th...  female  38.0      1   \n",
       "2                             Heikkinen, Miss. Laina  female  26.0      0   \n",
       "3       Futrelle, Mrs. Jacques Heath (Lily May Peel)  female  35.0      1   \n",
       "4                           Allen, Mr. William Henry    male  35.0      0   \n",
       "\n",
       "   Parch            Ticket     Fare Cabin Embarked  \n",
       "0      0         A/5 21171   7.2500   NaN        S  \n",
       "1      0          PC 17599  71.2833   C85        C  \n",
       "2      0  STON/O2. 3101282   7.9250   NaN        S  \n",
       "3      0            113803  53.1000  C123        S  \n",
       "4      0            373450   8.0500   NaN        S  "
      ]
     },
     "execution_count": 12,
     "metadata": {},
     "output_type": "execute_result"
    }
   ],
   "source": [
    "df.head()"
   ]
  },
  {
   "cell_type": "code",
   "execution_count": 63,
   "id": "5e745747",
   "metadata": {},
   "outputs": [
    {
     "name": "stdout",
     "output_type": "stream",
     "text": [
      "373450\n"
     ]
    }
   ],
   "source": [
    "for idx,name in enumerate(ls_name):\n",
    "    if(name == 'Allen, Mr. William Henry'):\n",
    "        print(df['Ticket'][idx])"
   ]
  },
  {
   "cell_type": "code",
   "execution_count": 17,
   "id": "12fa102c",
   "metadata": {},
   "outputs": [
    {
     "name": "stdout",
     "output_type": "stream",
     "text": [
      "PC 17599\n",
      "113803\n",
      "373450\n",
      "17463\n",
      "113783\n",
      "347082\n"
     ]
    }
   ],
   "source": [
    "ls_age = list(df['Age'].head(15))\n",
    "for idx,age in enumerate(ls_age):\n",
    "    if(age >30):\n",
    "        print(df['Ticket'][idx])"
   ]
  },
  {
   "cell_type": "code",
   "execution_count": 71,
   "id": "586d7833",
   "metadata": {},
   "outputs": [
    {
     "data": {
      "text/plain": [
       "{('Braund, Mr. Owen Harris', 'A/5 21171'): 22.0,\n",
       " ('Cumings, Mrs. John Bradley (Florence Briggs Thayer)', 'PC 17599'): 38.0,\n",
       " ('Heikkinen, Miss. Laina', 'STON/O2. 3101282'): 26.0,\n",
       " ('Futrelle, Mrs. Jacques Heath (Lily May Peel)', '113803'): 35.0,\n",
       " ('Allen, Mr. William Henry', '373450'): 35.0}"
      ]
     },
     "execution_count": 71,
     "metadata": {},
     "output_type": "execute_result"
    }
   ],
   "source": [
    "name = list(df['Name'].head())\n",
    "ticket = list(df['Ticket'].head())\n",
    "age = list(df['Age'].head())\n",
    "a = list(zip(name, ticket))\n",
    "dict(zip(a, age))"
   ]
  },
  {
   "cell_type": "code",
   "execution_count": 106,
   "id": "162e25d9",
   "metadata": {},
   "outputs": [
    {
     "data": {
      "text/plain": [
       "'Braund, Mr. Owen Harris,Cumings, Mrs. John Bradley (Florence Briggs Thayer),Heikkinen, Miss. Laina'"
      ]
     },
     "execution_count": 106,
     "metadata": {},
     "output_type": "execute_result"
    }
   ],
   "source": [
    "name = list(df['Name'].head(3))\n",
    "d = ','.join(name)\n",
    "d"
   ]
  },
  {
   "cell_type": "code",
   "execution_count": 107,
   "id": "eec3e3a6",
   "metadata": {},
   "outputs": [
    {
     "data": {
      "text/plain": [
       "['Braund',\n",
       " ' Mr. Owen Harris',\n",
       " 'Cumings',\n",
       " ' Mrs. John Bradley (Florence Briggs Thayer)',\n",
       " 'Heikkinen',\n",
       " ' Miss. Laina']"
      ]
     },
     "execution_count": 107,
     "metadata": {},
     "output_type": "execute_result"
    }
   ],
   "source": [
    "d.split(',')"
   ]
  },
  {
   "cell_type": "code",
   "execution_count": 77,
   "id": "1e446921",
   "metadata": {},
   "outputs": [
    {
     "data": {
      "text/plain": [
       "7.25"
      ]
     },
     "execution_count": 77,
     "metadata": {},
     "output_type": "execute_result"
    }
   ],
   "source": [
    "fare = list(df['Fare'].head(10))\n",
    "min(fare)"
   ]
  },
  {
   "cell_type": "code",
   "execution_count": 75,
   "id": "e22282c8",
   "metadata": {},
   "outputs": [
    {
     "data": {
      "text/plain": [
       "71.2833"
      ]
     },
     "execution_count": 75,
     "metadata": {},
     "output_type": "execute_result"
    }
   ],
   "source": [
    "max(fare)"
   ]
  },
  {
   "cell_type": "code",
   "execution_count": 76,
   "id": "ec110825",
   "metadata": {},
   "outputs": [
    {
     "data": {
      "text/plain": [
       "147.6083"
      ]
     },
     "execution_count": 76,
     "metadata": {},
     "output_type": "execute_result"
    }
   ],
   "source": [
    "sum(fare)"
   ]
  },
  {
   "cell_type": "code",
   "execution_count": 80,
   "id": "b9f1fe31",
   "metadata": {},
   "outputs": [
    {
     "name": "stdout",
     "output_type": "stream",
     "text": [
      "['male', 'female', 'female', 'female', 'male']\n"
     ]
    },
    {
     "data": {
      "text/plain": [
       "['male', 'female']"
      ]
     },
     "execution_count": 80,
     "metadata": {},
     "output_type": "execute_result"
    }
   ],
   "source": [
    "sex = list(df['Sex'].head())\n",
    "print(sex)\n",
    "list(set(sex))"
   ]
  },
  {
   "cell_type": "code",
   "execution_count": 81,
   "id": "c2abe924",
   "metadata": {
    "scrolled": true
   },
   "outputs": [
    {
     "name": "stdout",
     "output_type": "stream",
     "text": [
      "[22.0, 38.0, 26.0, 35.0, 35.0, nan, 54.0, 2.0, 27.0, 14.0]\n"
     ]
    }
   ],
   "source": [
    "age = list(df['Age'].head(10))\n",
    "print(age)"
   ]
  },
  {
   "cell_type": "code",
   "execution_count": 93,
   "id": "c6e8f9e8",
   "metadata": {},
   "outputs": [
    {
     "data": {
      "text/plain": [
       "[38.0, 35.0, 35.0, 54.0]"
      ]
     },
     "execution_count": 93,
     "metadata": {},
     "output_type": "execute_result"
    }
   ],
   "source": [
    "def age_greater_than_30(x):\n",
    "    return True if x > 30 else False\n",
    "new = [x for x in filter(age_greater_than_30, age)]\n",
    "new"
   ]
  },
  {
   "cell_type": "code",
   "execution_count": 94,
   "id": "e8dec2fa",
   "metadata": {},
   "outputs": [
    {
     "data": {
      "text/plain": [
       "[190.0, 175.0, 175.0, 270.0]"
      ]
     },
     "execution_count": 94,
     "metadata": {},
     "output_type": "execute_result"
    }
   ],
   "source": [
    "def use_of_map(val):\n",
    "    return val *5\n",
    "new_map = [val for val in map(use_of_map, new)]\n",
    "new_map"
   ]
  },
  {
   "cell_type": "code",
   "execution_count": 96,
   "id": "5b192655",
   "metadata": {},
   "outputs": [
    {
     "data": {
      "text/plain": [
       "[190.0, 175.0, 175.0, 270.0]"
      ]
     },
     "execution_count": 96,
     "metadata": {},
     "output_type": "execute_result"
    }
   ],
   "source": [
    "list(map(lambda val: val*5, new))"
   ]
  },
  {
   "cell_type": "code",
   "execution_count": 91,
   "id": "d34693e5",
   "metadata": {
    "scrolled": true
   },
   "outputs": [
    {
     "data": {
      "text/html": [
       "<div>\n",
       "<style scoped>\n",
       "    .dataframe tbody tr th:only-of-type {\n",
       "        vertical-align: middle;\n",
       "    }\n",
       "\n",
       "    .dataframe tbody tr th {\n",
       "        vertical-align: top;\n",
       "    }\n",
       "\n",
       "    .dataframe thead th {\n",
       "        text-align: right;\n",
       "    }\n",
       "</style>\n",
       "<table border=\"1\" class=\"dataframe\">\n",
       "  <thead>\n",
       "    <tr style=\"text-align: right;\">\n",
       "      <th></th>\n",
       "      <th>PassengerId</th>\n",
       "      <th>Survived</th>\n",
       "      <th>Pclass</th>\n",
       "      <th>Name</th>\n",
       "      <th>Sex</th>\n",
       "      <th>Age</th>\n",
       "      <th>SibSp</th>\n",
       "      <th>Parch</th>\n",
       "      <th>Ticket</th>\n",
       "      <th>Fare</th>\n",
       "      <th>Cabin</th>\n",
       "      <th>Embarked</th>\n",
       "    </tr>\n",
       "  </thead>\n",
       "  <tbody>\n",
       "    <tr>\n",
       "      <th>6</th>\n",
       "      <td>7</td>\n",
       "      <td>0</td>\n",
       "      <td>1</td>\n",
       "      <td>McCarthy, Mr. Timothy J</td>\n",
       "      <td>male</td>\n",
       "      <td>54.0</td>\n",
       "      <td>0</td>\n",
       "      <td>0</td>\n",
       "      <td>17463</td>\n",
       "      <td>51.8625</td>\n",
       "      <td>E46</td>\n",
       "      <td>S</td>\n",
       "    </tr>\n",
       "    <tr>\n",
       "      <th>11</th>\n",
       "      <td>12</td>\n",
       "      <td>1</td>\n",
       "      <td>1</td>\n",
       "      <td>Bonnell, Miss. Elizabeth</td>\n",
       "      <td>female</td>\n",
       "      <td>58.0</td>\n",
       "      <td>0</td>\n",
       "      <td>0</td>\n",
       "      <td>113783</td>\n",
       "      <td>26.5500</td>\n",
       "      <td>C103</td>\n",
       "      <td>S</td>\n",
       "    </tr>\n",
       "    <tr>\n",
       "      <th>15</th>\n",
       "      <td>16</td>\n",
       "      <td>1</td>\n",
       "      <td>2</td>\n",
       "      <td>Hewlett, Mrs. (Mary D Kingcome)</td>\n",
       "      <td>female</td>\n",
       "      <td>55.0</td>\n",
       "      <td>0</td>\n",
       "      <td>0</td>\n",
       "      <td>248706</td>\n",
       "      <td>16.0000</td>\n",
       "      <td>NaN</td>\n",
       "      <td>S</td>\n",
       "    </tr>\n",
       "    <tr>\n",
       "      <th>33</th>\n",
       "      <td>34</td>\n",
       "      <td>0</td>\n",
       "      <td>2</td>\n",
       "      <td>Wheadon, Mr. Edward H</td>\n",
       "      <td>male</td>\n",
       "      <td>66.0</td>\n",
       "      <td>0</td>\n",
       "      <td>0</td>\n",
       "      <td>C.A. 24579</td>\n",
       "      <td>10.5000</td>\n",
       "      <td>NaN</td>\n",
       "      <td>S</td>\n",
       "    </tr>\n",
       "    <tr>\n",
       "      <th>35</th>\n",
       "      <td>36</td>\n",
       "      <td>0</td>\n",
       "      <td>1</td>\n",
       "      <td>Holverson, Mr. Alexander Oskar</td>\n",
       "      <td>male</td>\n",
       "      <td>42.0</td>\n",
       "      <td>1</td>\n",
       "      <td>0</td>\n",
       "      <td>113789</td>\n",
       "      <td>52.0000</td>\n",
       "      <td>NaN</td>\n",
       "      <td>S</td>\n",
       "    </tr>\n",
       "    <tr>\n",
       "      <th>52</th>\n",
       "      <td>53</td>\n",
       "      <td>1</td>\n",
       "      <td>1</td>\n",
       "      <td>Harper, Mrs. Henry Sleeper (Myna Haxtun)</td>\n",
       "      <td>female</td>\n",
       "      <td>49.0</td>\n",
       "      <td>1</td>\n",
       "      <td>0</td>\n",
       "      <td>PC 17572</td>\n",
       "      <td>76.7292</td>\n",
       "      <td>D33</td>\n",
       "      <td>C</td>\n",
       "    </tr>\n",
       "    <tr>\n",
       "      <th>54</th>\n",
       "      <td>55</td>\n",
       "      <td>0</td>\n",
       "      <td>1</td>\n",
       "      <td>Ostby, Mr. Engelhart Cornelius</td>\n",
       "      <td>male</td>\n",
       "      <td>65.0</td>\n",
       "      <td>0</td>\n",
       "      <td>1</td>\n",
       "      <td>113509</td>\n",
       "      <td>61.9792</td>\n",
       "      <td>B30</td>\n",
       "      <td>C</td>\n",
       "    </tr>\n",
       "    <tr>\n",
       "      <th>62</th>\n",
       "      <td>63</td>\n",
       "      <td>0</td>\n",
       "      <td>1</td>\n",
       "      <td>Harris, Mr. Henry Birkhardt</td>\n",
       "      <td>male</td>\n",
       "      <td>45.0</td>\n",
       "      <td>1</td>\n",
       "      <td>0</td>\n",
       "      <td>36973</td>\n",
       "      <td>83.4750</td>\n",
       "      <td>C83</td>\n",
       "      <td>S</td>\n",
       "    </tr>\n",
       "    <tr>\n",
       "      <th>92</th>\n",
       "      <td>93</td>\n",
       "      <td>0</td>\n",
       "      <td>1</td>\n",
       "      <td>Chaffee, Mr. Herbert Fuller</td>\n",
       "      <td>male</td>\n",
       "      <td>46.0</td>\n",
       "      <td>1</td>\n",
       "      <td>0</td>\n",
       "      <td>W.E.P. 5734</td>\n",
       "      <td>61.1750</td>\n",
       "      <td>E31</td>\n",
       "      <td>S</td>\n",
       "    </tr>\n",
       "    <tr>\n",
       "      <th>94</th>\n",
       "      <td>95</td>\n",
       "      <td>0</td>\n",
       "      <td>3</td>\n",
       "      <td>Coxon, Mr. Daniel</td>\n",
       "      <td>male</td>\n",
       "      <td>59.0</td>\n",
       "      <td>0</td>\n",
       "      <td>0</td>\n",
       "      <td>364500</td>\n",
       "      <td>7.2500</td>\n",
       "      <td>NaN</td>\n",
       "      <td>S</td>\n",
       "    </tr>\n",
       "  </tbody>\n",
       "</table>\n",
       "</div>"
      ],
      "text/plain": [
       "    PassengerId  Survived  Pclass                                      Name  \\\n",
       "6             7         0       1                   McCarthy, Mr. Timothy J   \n",
       "11           12         1       1                  Bonnell, Miss. Elizabeth   \n",
       "15           16         1       2          Hewlett, Mrs. (Mary D Kingcome)    \n",
       "33           34         0       2                     Wheadon, Mr. Edward H   \n",
       "35           36         0       1            Holverson, Mr. Alexander Oskar   \n",
       "52           53         1       1  Harper, Mrs. Henry Sleeper (Myna Haxtun)   \n",
       "54           55         0       1            Ostby, Mr. Engelhart Cornelius   \n",
       "62           63         0       1               Harris, Mr. Henry Birkhardt   \n",
       "92           93         0       1               Chaffee, Mr. Herbert Fuller   \n",
       "94           95         0       3                         Coxon, Mr. Daniel   \n",
       "\n",
       "       Sex   Age  SibSp  Parch       Ticket     Fare Cabin Embarked  \n",
       "6     male  54.0      0      0        17463  51.8625   E46        S  \n",
       "11  female  58.0      0      0       113783  26.5500  C103        S  \n",
       "15  female  55.0      0      0       248706  16.0000   NaN        S  \n",
       "33    male  66.0      0      0   C.A. 24579  10.5000   NaN        S  \n",
       "35    male  42.0      1      0       113789  52.0000   NaN        S  \n",
       "52  female  49.0      1      0     PC 17572  76.7292   D33        C  \n",
       "54    male  65.0      0      1       113509  61.9792   B30        C  \n",
       "62    male  45.0      1      0        36973  83.4750   C83        S  \n",
       "92    male  46.0      1      0  W.E.P. 5734  61.1750   E31        S  \n",
       "94    male  59.0      0      0       364500   7.2500   NaN        S  "
      ]
     },
     "execution_count": 91,
     "metadata": {},
     "output_type": "execute_result"
    }
   ],
   "source": [
    "con = df[(df['Age'] > 30)]\n",
    "con.head(10)"
   ]
  },
  {
   "cell_type": "code",
   "execution_count": 5,
   "id": "55d9c563",
   "metadata": {},
   "outputs": [
    {
     "data": {
      "text/html": [
       "<div>\n",
       "<style scoped>\n",
       "    .dataframe tbody tr th:only-of-type {\n",
       "        vertical-align: middle;\n",
       "    }\n",
       "\n",
       "    .dataframe tbody tr th {\n",
       "        vertical-align: top;\n",
       "    }\n",
       "\n",
       "    .dataframe thead th {\n",
       "        text-align: right;\n",
       "    }\n",
       "</style>\n",
       "<table border=\"1\" class=\"dataframe\">\n",
       "  <thead>\n",
       "    <tr style=\"text-align: right;\">\n",
       "      <th></th>\n",
       "      <th>PassengerId</th>\n",
       "      <th>Name</th>\n",
       "      <th>Age</th>\n",
       "      <th>Sex</th>\n",
       "    </tr>\n",
       "  </thead>\n",
       "  <tbody>\n",
       "    <tr>\n",
       "      <th>1</th>\n",
       "      <td>2</td>\n",
       "      <td>Cumings, Mrs. John Bradley (Florence Briggs Th...</td>\n",
       "      <td>38.0</td>\n",
       "      <td>female</td>\n",
       "    </tr>\n",
       "    <tr>\n",
       "      <th>3</th>\n",
       "      <td>4</td>\n",
       "      <td>Futrelle, Mrs. Jacques Heath (Lily May Peel)</td>\n",
       "      <td>35.0</td>\n",
       "      <td>female</td>\n",
       "    </tr>\n",
       "    <tr>\n",
       "      <th>4</th>\n",
       "      <td>5</td>\n",
       "      <td>Allen, Mr. William Henry</td>\n",
       "      <td>35.0</td>\n",
       "      <td>male</td>\n",
       "    </tr>\n",
       "    <tr>\n",
       "      <th>6</th>\n",
       "      <td>7</td>\n",
       "      <td>McCarthy, Mr. Timothy J</td>\n",
       "      <td>54.0</td>\n",
       "      <td>male</td>\n",
       "    </tr>\n",
       "    <tr>\n",
       "      <th>11</th>\n",
       "      <td>12</td>\n",
       "      <td>Bonnell, Miss. Elizabeth</td>\n",
       "      <td>58.0</td>\n",
       "      <td>female</td>\n",
       "    </tr>\n",
       "    <tr>\n",
       "      <th>13</th>\n",
       "      <td>14</td>\n",
       "      <td>Andersson, Mr. Anders Johan</td>\n",
       "      <td>39.0</td>\n",
       "      <td>male</td>\n",
       "    </tr>\n",
       "    <tr>\n",
       "      <th>15</th>\n",
       "      <td>16</td>\n",
       "      <td>Hewlett, Mrs. (Mary D Kingcome)</td>\n",
       "      <td>55.0</td>\n",
       "      <td>female</td>\n",
       "    </tr>\n",
       "    <tr>\n",
       "      <th>18</th>\n",
       "      <td>19</td>\n",
       "      <td>Vander Planke, Mrs. Julius (Emelia Maria Vande...</td>\n",
       "      <td>31.0</td>\n",
       "      <td>female</td>\n",
       "    </tr>\n",
       "    <tr>\n",
       "      <th>20</th>\n",
       "      <td>21</td>\n",
       "      <td>Fynney, Mr. Joseph J</td>\n",
       "      <td>35.0</td>\n",
       "      <td>male</td>\n",
       "    </tr>\n",
       "    <tr>\n",
       "      <th>21</th>\n",
       "      <td>22</td>\n",
       "      <td>Beesley, Mr. Lawrence</td>\n",
       "      <td>34.0</td>\n",
       "      <td>male</td>\n",
       "    </tr>\n",
       "  </tbody>\n",
       "</table>\n",
       "</div>"
      ],
      "text/plain": [
       "    PassengerId                                               Name   Age  \\\n",
       "1             2  Cumings, Mrs. John Bradley (Florence Briggs Th...  38.0   \n",
       "3             4       Futrelle, Mrs. Jacques Heath (Lily May Peel)  35.0   \n",
       "4             5                           Allen, Mr. William Henry  35.0   \n",
       "6             7                            McCarthy, Mr. Timothy J  54.0   \n",
       "11           12                           Bonnell, Miss. Elizabeth  58.0   \n",
       "13           14                        Andersson, Mr. Anders Johan  39.0   \n",
       "15           16                   Hewlett, Mrs. (Mary D Kingcome)   55.0   \n",
       "18           19  Vander Planke, Mrs. Julius (Emelia Maria Vande...  31.0   \n",
       "20           21                               Fynney, Mr. Joseph J  35.0   \n",
       "21           22                              Beesley, Mr. Lawrence  34.0   \n",
       "\n",
       "       Sex  \n",
       "1   female  \n",
       "3   female  \n",
       "4     male  \n",
       "6     male  \n",
       "11  female  \n",
       "13    male  \n",
       "15  female  \n",
       "18  female  \n",
       "20    male  \n",
       "21    male  "
      ]
     },
     "execution_count": 5,
     "metadata": {},
     "output_type": "execute_result"
    }
   ],
   "source": [
    "s = df[['PassengerId', 'Name', 'Age', 'Sex']]\n",
    "con = s[(s['Age'] > 30)]\n",
    "con.head(10)"
   ]
  },
  {
   "cell_type": "code",
   "execution_count": 8,
   "id": "c12778e8",
   "metadata": {
    "scrolled": true
   },
   "outputs": [
    {
     "data": {
      "text/html": [
       "<div>\n",
       "<style scoped>\n",
       "    .dataframe tbody tr th:only-of-type {\n",
       "        vertical-align: middle;\n",
       "    }\n",
       "\n",
       "    .dataframe tbody tr th {\n",
       "        vertical-align: top;\n",
       "    }\n",
       "\n",
       "    .dataframe thead th {\n",
       "        text-align: right;\n",
       "    }\n",
       "</style>\n",
       "<table border=\"1\" class=\"dataframe\">\n",
       "  <thead>\n",
       "    <tr style=\"text-align: right;\">\n",
       "      <th></th>\n",
       "      <th>PassengerId</th>\n",
       "      <th>Name</th>\n",
       "      <th>Age</th>\n",
       "      <th>Sex</th>\n",
       "    </tr>\n",
       "  </thead>\n",
       "  <tbody>\n",
       "    <tr>\n",
       "      <th>1</th>\n",
       "      <td>2</td>\n",
       "      <td>Cumings, Mrs. John Bradley (Florence Briggs Th...</td>\n",
       "      <td>38.0</td>\n",
       "      <td>female</td>\n",
       "    </tr>\n",
       "    <tr>\n",
       "      <th>3</th>\n",
       "      <td>4</td>\n",
       "      <td>Futrelle, Mrs. Jacques Heath (Lily May Peel)</td>\n",
       "      <td>35.0</td>\n",
       "      <td>female</td>\n",
       "    </tr>\n",
       "    <tr>\n",
       "      <th>11</th>\n",
       "      <td>12</td>\n",
       "      <td>Bonnell, Miss. Elizabeth</td>\n",
       "      <td>58.0</td>\n",
       "      <td>female</td>\n",
       "    </tr>\n",
       "    <tr>\n",
       "      <th>15</th>\n",
       "      <td>16</td>\n",
       "      <td>Hewlett, Mrs. (Mary D Kingcome)</td>\n",
       "      <td>55.0</td>\n",
       "      <td>female</td>\n",
       "    </tr>\n",
       "    <tr>\n",
       "      <th>18</th>\n",
       "      <td>19</td>\n",
       "      <td>Vander Planke, Mrs. Julius (Emelia Maria Vande...</td>\n",
       "      <td>31.0</td>\n",
       "      <td>female</td>\n",
       "    </tr>\n",
       "    <tr>\n",
       "      <th>25</th>\n",
       "      <td>26</td>\n",
       "      <td>Asplund, Mrs. Carl Oscar (Selma Augusta Emilia...</td>\n",
       "      <td>38.0</td>\n",
       "      <td>female</td>\n",
       "    </tr>\n",
       "    <tr>\n",
       "      <th>40</th>\n",
       "      <td>41</td>\n",
       "      <td>Ahlin, Mrs. Johan (Johanna Persdotter Larsson)</td>\n",
       "      <td>40.0</td>\n",
       "      <td>female</td>\n",
       "    </tr>\n",
       "    <tr>\n",
       "      <th>52</th>\n",
       "      <td>53</td>\n",
       "      <td>Harper, Mrs. Henry Sleeper (Myna Haxtun)</td>\n",
       "      <td>49.0</td>\n",
       "      <td>female</td>\n",
       "    </tr>\n",
       "    <tr>\n",
       "      <th>61</th>\n",
       "      <td>62</td>\n",
       "      <td>Icard, Miss. Amelie</td>\n",
       "      <td>38.0</td>\n",
       "      <td>female</td>\n",
       "    </tr>\n",
       "    <tr>\n",
       "      <th>85</th>\n",
       "      <td>86</td>\n",
       "      <td>Backstrom, Mrs. Karl Alfred (Maria Mathilda Gu...</td>\n",
       "      <td>33.0</td>\n",
       "      <td>female</td>\n",
       "    </tr>\n",
       "  </tbody>\n",
       "</table>\n",
       "</div>"
      ],
      "text/plain": [
       "    PassengerId                                               Name   Age  \\\n",
       "1             2  Cumings, Mrs. John Bradley (Florence Briggs Th...  38.0   \n",
       "3             4       Futrelle, Mrs. Jacques Heath (Lily May Peel)  35.0   \n",
       "11           12                           Bonnell, Miss. Elizabeth  58.0   \n",
       "15           16                   Hewlett, Mrs. (Mary D Kingcome)   55.0   \n",
       "18           19  Vander Planke, Mrs. Julius (Emelia Maria Vande...  31.0   \n",
       "25           26  Asplund, Mrs. Carl Oscar (Selma Augusta Emilia...  38.0   \n",
       "40           41     Ahlin, Mrs. Johan (Johanna Persdotter Larsson)  40.0   \n",
       "52           53           Harper, Mrs. Henry Sleeper (Myna Haxtun)  49.0   \n",
       "61           62                                Icard, Miss. Amelie  38.0   \n",
       "85           86  Backstrom, Mrs. Karl Alfred (Maria Mathilda Gu...  33.0   \n",
       "\n",
       "       Sex  \n",
       "1   female  \n",
       "3   female  \n",
       "11  female  \n",
       "15  female  \n",
       "18  female  \n",
       "25  female  \n",
       "40  female  \n",
       "52  female  \n",
       "61  female  \n",
       "85  female  "
      ]
     },
     "execution_count": 8,
     "metadata": {},
     "output_type": "execute_result"
    }
   ],
   "source": [
    "con = s[(s['Sex'] == 'female') & (s['Age'] > 30)]\n",
    "con.head(10)"
   ]
  },
  {
   "cell_type": "code",
   "execution_count": 119,
   "id": "aec82c23",
   "metadata": {},
   "outputs": [
    {
     "name": "stdout",
     "output_type": "stream",
     "text": [
      "['Braund, Mr. Owen Harris', 'Cumings, Mrs. John Bradley (Florence Briggs Thayer)', 'Heikkinen, Miss. Laina', 'Futrelle, Mrs. Jacques Heath (Lily May Peel)', 'Allen, Mr. William Henry', 'Moran, Mr. James', 'McCarthy, Mr. Timothy J', 'Palsson, Master. Gosta Leonard', 'Johnson, Mrs. Oscar W (Elisabeth Vilhelmina Berg)', 'Nasser, Mrs. Nicholas (Adele Achem)', 'Sourav']\n"
     ]
    }
   ],
   "source": [
    "name = list(df['Name'].head(10))\n",
    "age = list(df['Age'].head(10))\n",
    "name.append('Sourav')\n",
    "print(name)"
   ]
  },
  {
   "cell_type": "code",
   "execution_count": 118,
   "id": "4cd39f9b",
   "metadata": {},
   "outputs": [
    {
     "name": "stdout",
     "output_type": "stream",
     "text": [
      "['Braund, Mr. Owen Harris', 'Cumings, Mrs. John Bradley (Florence Briggs Thayer)', 'Heikkinen, Miss. Laina', 'Futrelle, Mrs. Jacques Heath (Lily May Peel)', 'Allen, Mr. William Henry', 'Moran, Mr. James', 'McCarthy, Mr. Timothy J', 'Palsson, Master. Gosta Leonard', 'Johnson, Mrs. Oscar W (Elisabeth Vilhelmina Berg)', 'Nasser, Mrs. Nicholas (Adele Achem)', 22.0, 38.0, 26.0, 35.0, 35.0, nan, 54.0, 2.0, 27.0, 14.0]\n"
     ]
    }
   ],
   "source": [
    "name = list(df['Name'].head(10))\n",
    "age = list(df['Age'].head(10))\n",
    "name.extend(age)\n",
    "print(name)"
   ]
  },
  {
   "cell_type": "code",
   "execution_count": 122,
   "id": "4347dd3a",
   "metadata": {},
   "outputs": [
    {
     "data": {
      "text/plain": [
       "-77.0"
      ]
     },
     "execution_count": 122,
     "metadata": {},
     "output_type": "execute_result"
    }
   ],
   "source": [
    "# 28. Subtract values in a list from the first element with the reduce function\n",
    "from functools import reduce\n",
    "age = list(df['Age'].head(4))\n",
    "def sub(a, b):\n",
    "    return a - b\n",
    "reduce(sub, age)"
   ]
  },
  {
   "cell_type": "code",
   "execution_count": 4,
   "id": "7e124779",
   "metadata": {},
   "outputs": [
    {
     "data": {
      "text/html": [
       "<div>\n",
       "<style scoped>\n",
       "    .dataframe tbody tr th:only-of-type {\n",
       "        vertical-align: middle;\n",
       "    }\n",
       "\n",
       "    .dataframe tbody tr th {\n",
       "        vertical-align: top;\n",
       "    }\n",
       "\n",
       "    .dataframe thead th {\n",
       "        text-align: right;\n",
       "    }\n",
       "</style>\n",
       "<table border=\"1\" class=\"dataframe\">\n",
       "  <thead>\n",
       "    <tr style=\"text-align: right;\">\n",
       "      <th></th>\n",
       "      <th>PassengerId</th>\n",
       "      <th>Survived</th>\n",
       "      <th>Pclass</th>\n",
       "      <th>Name</th>\n",
       "      <th>Sex</th>\n",
       "      <th>Age</th>\n",
       "      <th>SibSp</th>\n",
       "      <th>Parch</th>\n",
       "      <th>Ticket</th>\n",
       "      <th>Fare</th>\n",
       "      <th>Cabin</th>\n",
       "      <th>Embarked</th>\n",
       "    </tr>\n",
       "  </thead>\n",
       "  <tbody>\n",
       "    <tr>\n",
       "      <th>0</th>\n",
       "      <td>1</td>\n",
       "      <td>0</td>\n",
       "      <td>3</td>\n",
       "      <td>Braund, Mr. Owen Harris</td>\n",
       "      <td>male</td>\n",
       "      <td>22.0</td>\n",
       "      <td>1</td>\n",
       "      <td>0</td>\n",
       "      <td>A/5 21171</td>\n",
       "      <td>7.2500</td>\n",
       "      <td>NaN</td>\n",
       "      <td>S</td>\n",
       "    </tr>\n",
       "    <tr>\n",
       "      <th>1</th>\n",
       "      <td>2</td>\n",
       "      <td>1</td>\n",
       "      <td>1</td>\n",
       "      <td>Cumings, Mrs. John Bradley (Florence Briggs Th...</td>\n",
       "      <td>female</td>\n",
       "      <td>38.0</td>\n",
       "      <td>1</td>\n",
       "      <td>0</td>\n",
       "      <td>PC 17599</td>\n",
       "      <td>71.2833</td>\n",
       "      <td>C85</td>\n",
       "      <td>C</td>\n",
       "    </tr>\n",
       "    <tr>\n",
       "      <th>2</th>\n",
       "      <td>3</td>\n",
       "      <td>1</td>\n",
       "      <td>3</td>\n",
       "      <td>Heikkinen, Miss. Laina</td>\n",
       "      <td>female</td>\n",
       "      <td>26.0</td>\n",
       "      <td>0</td>\n",
       "      <td>0</td>\n",
       "      <td>STON/O2. 3101282</td>\n",
       "      <td>7.9250</td>\n",
       "      <td>NaN</td>\n",
       "      <td>S</td>\n",
       "    </tr>\n",
       "    <tr>\n",
       "      <th>3</th>\n",
       "      <td>4</td>\n",
       "      <td>1</td>\n",
       "      <td>1</td>\n",
       "      <td>Futrelle, Mrs. Jacques Heath (Lily May Peel)</td>\n",
       "      <td>female</td>\n",
       "      <td>35.0</td>\n",
       "      <td>1</td>\n",
       "      <td>0</td>\n",
       "      <td>113803</td>\n",
       "      <td>53.1000</td>\n",
       "      <td>C123</td>\n",
       "      <td>S</td>\n",
       "    </tr>\n",
       "    <tr>\n",
       "      <th>4</th>\n",
       "      <td>5</td>\n",
       "      <td>0</td>\n",
       "      <td>3</td>\n",
       "      <td>Allen, Mr. William Henry</td>\n",
       "      <td>male</td>\n",
       "      <td>35.0</td>\n",
       "      <td>0</td>\n",
       "      <td>0</td>\n",
       "      <td>373450</td>\n",
       "      <td>8.0500</td>\n",
       "      <td>NaN</td>\n",
       "      <td>S</td>\n",
       "    </tr>\n",
       "    <tr>\n",
       "      <th>5</th>\n",
       "      <td>6</td>\n",
       "      <td>0</td>\n",
       "      <td>3</td>\n",
       "      <td>Moran, Mr. James</td>\n",
       "      <td>male</td>\n",
       "      <td>NaN</td>\n",
       "      <td>0</td>\n",
       "      <td>0</td>\n",
       "      <td>330877</td>\n",
       "      <td>8.4583</td>\n",
       "      <td>NaN</td>\n",
       "      <td>Q</td>\n",
       "    </tr>\n",
       "    <tr>\n",
       "      <th>6</th>\n",
       "      <td>7</td>\n",
       "      <td>0</td>\n",
       "      <td>1</td>\n",
       "      <td>McCarthy, Mr. Timothy J</td>\n",
       "      <td>male</td>\n",
       "      <td>54.0</td>\n",
       "      <td>0</td>\n",
       "      <td>0</td>\n",
       "      <td>17463</td>\n",
       "      <td>51.8625</td>\n",
       "      <td>E46</td>\n",
       "      <td>S</td>\n",
       "    </tr>\n",
       "    <tr>\n",
       "      <th>7</th>\n",
       "      <td>8</td>\n",
       "      <td>0</td>\n",
       "      <td>3</td>\n",
       "      <td>Palsson, Master. Gosta Leonard</td>\n",
       "      <td>male</td>\n",
       "      <td>2.0</td>\n",
       "      <td>3</td>\n",
       "      <td>1</td>\n",
       "      <td>349909</td>\n",
       "      <td>21.0750</td>\n",
       "      <td>NaN</td>\n",
       "      <td>S</td>\n",
       "    </tr>\n",
       "    <tr>\n",
       "      <th>8</th>\n",
       "      <td>9</td>\n",
       "      <td>1</td>\n",
       "      <td>3</td>\n",
       "      <td>Johnson, Mrs. Oscar W (Elisabeth Vilhelmina Berg)</td>\n",
       "      <td>female</td>\n",
       "      <td>27.0</td>\n",
       "      <td>0</td>\n",
       "      <td>2</td>\n",
       "      <td>347742</td>\n",
       "      <td>11.1333</td>\n",
       "      <td>NaN</td>\n",
       "      <td>S</td>\n",
       "    </tr>\n",
       "    <tr>\n",
       "      <th>9</th>\n",
       "      <td>10</td>\n",
       "      <td>1</td>\n",
       "      <td>2</td>\n",
       "      <td>Nasser, Mrs. Nicholas (Adele Achem)</td>\n",
       "      <td>female</td>\n",
       "      <td>14.0</td>\n",
       "      <td>1</td>\n",
       "      <td>0</td>\n",
       "      <td>237736</td>\n",
       "      <td>30.0708</td>\n",
       "      <td>NaN</td>\n",
       "      <td>C</td>\n",
       "    </tr>\n",
       "  </tbody>\n",
       "</table>\n",
       "</div>"
      ],
      "text/plain": [
       "   PassengerId  Survived  Pclass  \\\n",
       "0            1         0       3   \n",
       "1            2         1       1   \n",
       "2            3         1       3   \n",
       "3            4         1       1   \n",
       "4            5         0       3   \n",
       "5            6         0       3   \n",
       "6            7         0       1   \n",
       "7            8         0       3   \n",
       "8            9         1       3   \n",
       "9           10         1       2   \n",
       "\n",
       "                                                Name     Sex   Age  SibSp  \\\n",
       "0                            Braund, Mr. Owen Harris    male  22.0      1   \n",
       "1  Cumings, Mrs. John Bradley (Florence Briggs Th...  female  38.0      1   \n",
       "2                             Heikkinen, Miss. Laina  female  26.0      0   \n",
       "3       Futrelle, Mrs. Jacques Heath (Lily May Peel)  female  35.0      1   \n",
       "4                           Allen, Mr. William Henry    male  35.0      0   \n",
       "5                                   Moran, Mr. James    male   NaN      0   \n",
       "6                            McCarthy, Mr. Timothy J    male  54.0      0   \n",
       "7                     Palsson, Master. Gosta Leonard    male   2.0      3   \n",
       "8  Johnson, Mrs. Oscar W (Elisabeth Vilhelmina Berg)  female  27.0      0   \n",
       "9                Nasser, Mrs. Nicholas (Adele Achem)  female  14.0      1   \n",
       "\n",
       "   Parch            Ticket     Fare Cabin Embarked  \n",
       "0      0         A/5 21171   7.2500   NaN        S  \n",
       "1      0          PC 17599  71.2833   C85        C  \n",
       "2      0  STON/O2. 3101282   7.9250   NaN        S  \n",
       "3      0            113803  53.1000  C123        S  \n",
       "4      0            373450   8.0500   NaN        S  \n",
       "5      0            330877   8.4583   NaN        Q  \n",
       "6      0             17463  51.8625   E46        S  \n",
       "7      1            349909  21.0750   NaN        S  \n",
       "8      2            347742  11.1333   NaN        S  \n",
       "9      0            237736  30.0708   NaN        C  "
      ]
     },
     "execution_count": 4,
     "metadata": {},
     "output_type": "execute_result"
    }
   ],
   "source": [
    "df.head(10)"
   ]
  },
  {
   "cell_type": "code",
   "execution_count": 23,
   "id": "5d508bb7",
   "metadata": {},
   "outputs": [
    {
     "name": "stdout",
     "output_type": "stream",
     "text": [
      "[3, 1, 3, 1, 3, 3, 1, 3, 3, 2]\n"
     ]
    },
    {
     "data": {
      "text/plain": [
       "-17"
      ]
     },
     "execution_count": 23,
     "metadata": {},
     "output_type": "execute_result"
    }
   ],
   "source": [
    "from functools import reduce\n",
    "pclass = list(df['Pclass'].head(10))\n",
    "print(pclass)\n",
    "def sub(a, b):\n",
    "    return a - b\n",
    "reduce(sub, pclass)"
   ]
  },
  {
   "cell_type": "code",
   "execution_count": null,
   "id": "785e1810",
   "metadata": {},
   "outputs": [],
   "source": []
  }
 ],
 "metadata": {
  "kernelspec": {
   "display_name": "Python 3.8.10 64-bit",
   "language": "python",
   "name": "python3810jvsc74a57bd031f2aee4e71d21fbe5cf8b01ff0e069b9275f58929596ceb00d14d90e3e16cd6"
  },
  "language_info": {
   "codemirror_mode": {
    "name": "ipython",
    "version": 3
   },
   "file_extension": ".py",
   "mimetype": "text/x-python",
   "name": "python",
   "nbconvert_exporter": "python",
   "pygments_lexer": "ipython3",
   "version": "3.8.10"
  }
 },
 "nbformat": 4,
 "nbformat_minor": 5
}
