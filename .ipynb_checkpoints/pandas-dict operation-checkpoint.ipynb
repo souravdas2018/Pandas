{
 "cells": [
  {
   "cell_type": "code",
   "execution_count": 1,
   "id": "a962c5ad",
   "metadata": {},
   "outputs": [],
   "source": [
    "import pandas as pd"
   ]
  },
  {
   "cell_type": "code",
   "execution_count": 2,
   "id": "d61936a3",
   "metadata": {},
   "outputs": [
    {
     "data": {
      "text/html": [
       "<div>\n",
       "<style scoped>\n",
       "    .dataframe tbody tr th:only-of-type {\n",
       "        vertical-align: middle;\n",
       "    }\n",
       "\n",
       "    .dataframe tbody tr th {\n",
       "        vertical-align: top;\n",
       "    }\n",
       "\n",
       "    .dataframe thead th {\n",
       "        text-align: right;\n",
       "    }\n",
       "</style>\n",
       "<table border=\"1\" class=\"dataframe\">\n",
       "  <thead>\n",
       "    <tr style=\"text-align: right;\">\n",
       "      <th></th>\n",
       "      <th>PassengerId</th>\n",
       "      <th>Survived</th>\n",
       "      <th>Pclass</th>\n",
       "      <th>Name</th>\n",
       "      <th>Sex</th>\n",
       "      <th>Age</th>\n",
       "      <th>SibSp</th>\n",
       "      <th>Parch</th>\n",
       "      <th>Ticket</th>\n",
       "      <th>Fare</th>\n",
       "      <th>Cabin</th>\n",
       "      <th>Embarked</th>\n",
       "    </tr>\n",
       "  </thead>\n",
       "  <tbody>\n",
       "    <tr>\n",
       "      <th>0</th>\n",
       "      <td>1</td>\n",
       "      <td>0</td>\n",
       "      <td>3</td>\n",
       "      <td>Braund, Mr. Owen Harris</td>\n",
       "      <td>male</td>\n",
       "      <td>22.0</td>\n",
       "      <td>1</td>\n",
       "      <td>0</td>\n",
       "      <td>A/5 21171</td>\n",
       "      <td>7.2500</td>\n",
       "      <td>NaN</td>\n",
       "      <td>S</td>\n",
       "    </tr>\n",
       "    <tr>\n",
       "      <th>1</th>\n",
       "      <td>2</td>\n",
       "      <td>1</td>\n",
       "      <td>1</td>\n",
       "      <td>Cumings, Mrs. John Bradley (Florence Briggs Th...</td>\n",
       "      <td>female</td>\n",
       "      <td>38.0</td>\n",
       "      <td>1</td>\n",
       "      <td>0</td>\n",
       "      <td>PC 17599</td>\n",
       "      <td>71.2833</td>\n",
       "      <td>C85</td>\n",
       "      <td>C</td>\n",
       "    </tr>\n",
       "    <tr>\n",
       "      <th>2</th>\n",
       "      <td>3</td>\n",
       "      <td>1</td>\n",
       "      <td>3</td>\n",
       "      <td>Heikkinen, Miss. Laina</td>\n",
       "      <td>female</td>\n",
       "      <td>26.0</td>\n",
       "      <td>0</td>\n",
       "      <td>0</td>\n",
       "      <td>STON/O2. 3101282</td>\n",
       "      <td>7.9250</td>\n",
       "      <td>NaN</td>\n",
       "      <td>S</td>\n",
       "    </tr>\n",
       "    <tr>\n",
       "      <th>3</th>\n",
       "      <td>4</td>\n",
       "      <td>1</td>\n",
       "      <td>1</td>\n",
       "      <td>Futrelle, Mrs. Jacques Heath (Lily May Peel)</td>\n",
       "      <td>female</td>\n",
       "      <td>35.0</td>\n",
       "      <td>1</td>\n",
       "      <td>0</td>\n",
       "      <td>113803</td>\n",
       "      <td>53.1000</td>\n",
       "      <td>C123</td>\n",
       "      <td>S</td>\n",
       "    </tr>\n",
       "    <tr>\n",
       "      <th>4</th>\n",
       "      <td>5</td>\n",
       "      <td>0</td>\n",
       "      <td>3</td>\n",
       "      <td>Allen, Mr. William Henry</td>\n",
       "      <td>male</td>\n",
       "      <td>35.0</td>\n",
       "      <td>0</td>\n",
       "      <td>0</td>\n",
       "      <td>373450</td>\n",
       "      <td>8.0500</td>\n",
       "      <td>NaN</td>\n",
       "      <td>S</td>\n",
       "    </tr>\n",
       "  </tbody>\n",
       "</table>\n",
       "</div>"
      ],
      "text/plain": [
       "   PassengerId  Survived  Pclass  \\\n",
       "0            1         0       3   \n",
       "1            2         1       1   \n",
       "2            3         1       3   \n",
       "3            4         1       1   \n",
       "4            5         0       3   \n",
       "\n",
       "                                                Name     Sex   Age  SibSp  \\\n",
       "0                            Braund, Mr. Owen Harris    male  22.0      1   \n",
       "1  Cumings, Mrs. John Bradley (Florence Briggs Th...  female  38.0      1   \n",
       "2                             Heikkinen, Miss. Laina  female  26.0      0   \n",
       "3       Futrelle, Mrs. Jacques Heath (Lily May Peel)  female  35.0      1   \n",
       "4                           Allen, Mr. William Henry    male  35.0      0   \n",
       "\n",
       "   Parch            Ticket     Fare Cabin Embarked  \n",
       "0      0         A/5 21171   7.2500   NaN        S  \n",
       "1      0          PC 17599  71.2833   C85        C  \n",
       "2      0  STON/O2. 3101282   7.9250   NaN        S  \n",
       "3      0            113803  53.1000  C123        S  \n",
       "4      0            373450   8.0500   NaN        S  "
      ]
     },
     "execution_count": 2,
     "metadata": {},
     "output_type": "execute_result"
    }
   ],
   "source": [
    "df = pd.read_csv(\"titanic.csv\")\n",
    "df.head()"
   ]
  },
  {
   "cell_type": "code",
   "execution_count": 3,
   "id": "3a8fcab5",
   "metadata": {},
   "outputs": [
    {
     "data": {
      "text/plain": [
       "{0: 'A/5 21171',\n",
       " 1: 'PC 17599',\n",
       " 2: 'STON/O2. 3101282',\n",
       " 3: '113803',\n",
       " 4: '373450'}"
      ]
     },
     "execution_count": 3,
     "metadata": {},
     "output_type": "execute_result"
    }
   ],
   "source": [
    "ticket = dict(df['Ticket'].head())\n",
    "ticket"
   ]
  },
  {
   "cell_type": "code",
   "execution_count": 18,
   "id": "171d0836",
   "metadata": {},
   "outputs": [
    {
     "name": "stdout",
     "output_type": "stream",
     "text": [
      "[22.0, 38.0, 26.0, 35.0, 35.0]\n"
     ]
    },
    {
     "data": {
      "text/plain": [
       "{22.0: 'male', 38.0: 'female', 26.0: 'female', 35.0: 'male'}"
      ]
     },
     "execution_count": 18,
     "metadata": {},
     "output_type": "execute_result"
    }
   ],
   "source": [
    "age = list(df['Age'].head())\n",
    "print(age)\n",
    "sex = list(df['Sex'].head())\n",
    "new_dct = dict(zip(age, sex))\n",
    "new_dct\n"
   ]
  },
  {
   "cell_type": "code",
   "execution_count": 1,
   "id": "31e11cba",
   "metadata": {},
   "outputs": [],
   "source": [
    "# new = df.to_dict(orient = 'records')\n",
    "# new"
   ]
  },
  {
   "cell_type": "code",
   "execution_count": 16,
   "id": "c57f2a2b",
   "metadata": {},
   "outputs": [
    {
     "data": {
      "text/plain": [
       "{'PassengerId': 1,\n",
       " 'Survived': 0,\n",
       " 'Pclass': 3,\n",
       " 'Name': 'Braund, Mr. Owen Harris',\n",
       " 'Sex': 'male',\n",
       " 'Age': 22.0,\n",
       " 'SibSp': 1,\n",
       " 'Parch': 0,\n",
       " 'Ticket': 'A/5 21171',\n",
       " 'Fare': 7.25,\n",
       " 'Cabin': nan,\n",
       " 'Embarked': 'S'}"
      ]
     },
     "execution_count": 16,
     "metadata": {},
     "output_type": "execute_result"
    }
   ],
   "source": [
    "type(df.loc[0])\n",
    "dict(df.loc[0])"
   ]
  },
  {
   "cell_type": "code",
   "execution_count": 20,
   "id": "6c0719f2",
   "metadata": {},
   "outputs": [
    {
     "data": {
      "text/plain": [
       "pandas.core.series.Series"
      ]
     },
     "execution_count": 20,
     "metadata": {},
     "output_type": "execute_result"
    }
   ],
   "source": [
    "type(df.loc[0])"
   ]
  },
  {
   "cell_type": "code",
   "execution_count": 61,
   "id": "334e233a",
   "metadata": {},
   "outputs": [
    {
     "name": "stdout",
     "output_type": "stream",
     "text": [
      "{0: 22.0, 1: 38.0, 2: 26.0, 3: 35.0, 4: 35.0}\n"
     ]
    },
    {
     "data": {
      "text/plain": [
       "{}"
      ]
     },
     "execution_count": 61,
     "metadata": {},
     "output_type": "execute_result"
    }
   ],
   "source": [
    "# How clear() method works for dictionaries?\n",
    "age_dict = dict(df['Age'].head())\n",
    "print(age_dict).head()\n",
    "age_dict.clear()\n",
    "age_dict"
   ]
  },
  {
   "cell_type": "code",
   "execution_count": 13,
   "id": "8e77165b",
   "metadata": {},
   "outputs": [
    {
     "name": "stdout",
     "output_type": "stream",
     "text": [
      "{0: 22.0, 1: 38.0, 2: 26.0, 3: 35.0, 4: 35.0}\n",
      "{0: 22.0, 1: 38.0, 2: 26.0, 3: 35.0, 4: 35.0}\n"
     ]
    }
   ],
   "source": [
    "# How copy works for dictionaries?\n",
    "orgnl_age = dict(df['Age'].head())\n",
    "print(orgnl_age)\n",
    "copy_age = orgnl_age.copy()\n",
    "print(copy_age)"
   ]
  },
  {
   "cell_type": "code",
   "execution_count": 14,
   "id": "cb0a5854",
   "metadata": {},
   "outputs": [
    {
     "name": "stdout",
     "output_type": "stream",
     "text": [
      "{0: 22.0, 1: 38.0, 2: 26.0, 3: 35.0, 4: 35.0}\n",
      "{0: 22.0, 1: 38.0, 2: 26.0, 3: 35.0, 4: 35.0}\n"
     ]
    }
   ],
   "source": [
    "# Using = Operator to Copy Dictionaries\n",
    "orgnl_age = dict(df['Age'].head())\n",
    "print(orgnl_age)\n",
    "copy_age = orgnl_age\n",
    "print(copy_age)"
   ]
  },
  {
   "cell_type": "code",
   "execution_count": 41,
   "id": "c10892fa",
   "metadata": {},
   "outputs": [
    {
     "data": {
      "text/plain": [
       "{'Braund, Mr. Owen Harris': 'A/5 21171',\n",
       " 'Cumings, Mrs. John Bradley (Florence Briggs Thayer)': 'PC 17599',\n",
       " 'Heikkinen, Miss. Laina': 'STON/O2. 3101282',\n",
       " 'Futrelle, Mrs. Jacques Heath (Lily May Peel)': '113803',\n",
       " 'Allen, Mr. William Henry': '373450'}"
      ]
     },
     "execution_count": 41,
     "metadata": {},
     "output_type": "execute_result"
    }
   ],
   "source": [
    "name = list(df['Name'].head())\n",
    "ticket = list(df['Ticket'].head())\n",
    "new_dict = dict(zip(name, ticket))\n",
    "new_dict"
   ]
  },
  {
   "cell_type": "code",
   "execution_count": 17,
   "id": "438104c0",
   "metadata": {},
   "outputs": [
    {
     "name": "stdout",
     "output_type": "stream",
     "text": [
      "{'a': None, 'e': None, 'o': None, 'u': None, 'i': None}\n"
     ]
    }
   ],
   "source": [
    "# Create a dictionary from a sequence of keys\n",
    "keys = {'a', 'e', 'i', 'o', 'u' }\n",
    "vowels = dict.fromkeys(keys)\n",
    "print(vowels)"
   ]
  },
  {
   "cell_type": "code",
   "execution_count": 50,
   "id": "5e530fa8",
   "metadata": {},
   "outputs": [
    {
     "data": {
      "text/plain": [
       "{'Braund, Mr. Owen Harris': None,\n",
       " 'Cumings, Mrs. John Bradley (Florence Briggs Thayer)': None,\n",
       " 'Heikkinen, Miss. Laina': None,\n",
       " 'Futrelle, Mrs. Jacques Heath (Lily May Peel)': None,\n",
       " 'Allen, Mr. William Henry': None}"
      ]
     },
     "execution_count": 50,
     "metadata": {},
     "output_type": "execute_result"
    }
   ],
   "source": [
    "name = list(df['Name'].head())\n",
    "dict.fromkeys(name)"
   ]
  },
  {
   "cell_type": "code",
   "execution_count": 18,
   "id": "faedf42d",
   "metadata": {},
   "outputs": [
    {
     "name": "stdout",
     "output_type": "stream",
     "text": [
      "{'a': 'vowel', 'e': 'vowel', 'o': 'vowel', 'u': 'vowel', 'i': 'vowel'}\n"
     ]
    }
   ],
   "source": [
    "# Create a dictionary from a sequence of keys with value\n",
    "keys = {'a', 'e', 'i', 'o', 'u' }\n",
    "value = 'vowel'\n",
    "vowels = dict.fromkeys(keys, value)\n",
    "print(vowels)"
   ]
  },
  {
   "cell_type": "code",
   "execution_count": 65,
   "id": "ee5d1e3e",
   "metadata": {},
   "outputs": [
    {
     "name": "stdout",
     "output_type": "stream",
     "text": [
      "{'A/5 21171': 'Ticket Number', 'PC 17599': 'Ticket Number', 'STON/O2. 3101282': 'Ticket Number', '113803': 'Ticket Number', '373450': 'Ticket Number'}\n"
     ]
    }
   ],
   "source": [
    "ticket = list(df['Ticket'].head())\n",
    "value = 'Ticket Number'\n",
    "vowels = dict.fromkeys(ticket, value)\n",
    "print(vowels)"
   ]
  },
  {
   "cell_type": "code",
   "execution_count": 19,
   "id": "0c9a4a33",
   "metadata": {},
   "outputs": [
    {
     "name": "stdout",
     "output_type": "stream",
     "text": [
      "{'a': [1], 'e': [1], 'o': [1], 'u': [1], 'i': [1]}\n",
      "{'a': [1, 2], 'e': [1, 2], 'o': [1, 2], 'u': [1, 2], 'i': [1, 2]}\n"
     ]
    }
   ],
   "source": [
    "# Create a dictionary from mutable object list\n",
    "keys = {'a', 'e', 'i', 'o', 'u' }\n",
    "value = [1]\n",
    "\n",
    "vowels = dict.fromkeys(keys, value)\n",
    "print(vowels)\n",
    "\n",
    "value.append(2)\n",
    "print(vowels)"
   ]
  },
  {
   "cell_type": "code",
   "execution_count": 64,
   "id": "ae14b40d",
   "metadata": {},
   "outputs": [
    {
     "name": "stdout",
     "output_type": "stream",
     "text": [
      "{'A/5 21171': [1], 'PC 17599': [1], 'STON/O2. 3101282': [1], '113803': [1], '373450': [1]}\n",
      "{'A/5 21171': [1, 2], 'PC 17599': [1, 2], 'STON/O2. 3101282': [1, 2], '113803': [1, 2], '373450': [1, 2]}\n"
     ]
    }
   ],
   "source": [
    "tkt = list(df['Ticket'].head())\n",
    "v = [1]\n",
    "\n",
    "new = dict.fromkeys(tkt, v)\n",
    "print(new)\n",
    "\n",
    "v.append(2)\n",
    "print(new)"
   ]
  },
  {
   "cell_type": "code",
   "execution_count": 5,
   "id": "23345dc1",
   "metadata": {},
   "outputs": [
    {
     "name": "stdout",
     "output_type": "stream",
     "text": [
      "{'i': [1], 'u': [1], 'e': [1], 'o': [1], 'a': [1]}\n",
      "{'i': [1], 'u': [1], 'e': [1], 'o': [1], 'a': [1]}\n"
     ]
    }
   ],
   "source": [
    "keys = {'a', 'e', 'i', 'o', 'u' }\n",
    "value = [1]\n",
    "vowels = { key : list(value) for key in keys }\n",
    "print(vowels)\n",
    "value.append(2)\n",
    "print(vowels)"
   ]
  },
  {
   "cell_type": "code",
   "execution_count": 8,
   "id": "69c2cefa",
   "metadata": {},
   "outputs": [
    {
     "name": "stdout",
     "output_type": "stream",
     "text": [
      "Name:  Sourav\n",
      "Age:  28\n",
      "Salary:  None\n",
      "Salary:  10000.0\n"
     ]
    }
   ],
   "source": [
    "# How get() works for dictionaries?\n",
    "person = {'name': 'Sourav', 'age': 28}\n",
    "\n",
    "print('Name: ', person.get('name'))\n",
    "print('Age: ', person.get('age'))\n",
    "\n",
    "# without value\n",
    "print('Salary: ', person.get('salary'))\n",
    "\n",
    "# with value\n",
    "print('Salary: ', person.get('salary', 10000.00))"
   ]
  },
  {
   "cell_type": "code",
   "execution_count": 23,
   "id": "2b0109bb",
   "metadata": {},
   "outputs": [
    {
     "name": "stdout",
     "output_type": "stream",
     "text": [
      "dict_items([('apple', 2), ('orange', 3), ('grapes', 4)])\n"
     ]
    }
   ],
   "source": [
    "# Get all items of a dictionary with items()\n",
    "sales = { 'apple': 2, 'orange': 3, 'grapes': 4 }\n",
    "\n",
    "print(sales.items())"
   ]
  },
  {
   "cell_type": "code",
   "execution_count": 76,
   "id": "f7c01c0e",
   "metadata": {},
   "outputs": [
    {
     "name": "stdout",
     "output_type": "stream",
     "text": [
      "{'Braund, Mr. Owen Harris': 'A/5 21171', 'Cumings, Mrs. John Bradley (Florence Briggs Thayer)': 'PC 17599', 'Heikkinen, Miss. Laina': 'STON/O2. 3101282', 'Futrelle, Mrs. Jacques Heath (Lily May Peel)': '113803', 'Allen, Mr. William Henry': '373450'}\n",
      "Items :=  dict_items([('Braund, Mr. Owen Harris', 'A/5 21171'), ('Cumings, Mrs. John Bradley (Florence Briggs Thayer)', 'PC 17599'), ('Heikkinen, Miss. Laina', 'STON/O2. 3101282'), ('Futrelle, Mrs. Jacques Heath (Lily May Peel)', '113803'), ('Allen, Mr. William Henry', '373450')])\n",
      "Key :=  dict_keys(['Braund, Mr. Owen Harris', 'Cumings, Mrs. John Bradley (Florence Briggs Thayer)', 'Heikkinen, Miss. Laina', 'Futrelle, Mrs. Jacques Heath (Lily May Peel)', 'Allen, Mr. William Henry'])\n",
      "Values :=  dict_values(['A/5 21171', 'PC 17599', 'STON/O2. 3101282', '113803', '373450'])\n"
     ]
    }
   ],
   "source": [
    "name = list(df['Name'].head())\n",
    "ticket = list(df['Ticket'].head())\n",
    "new_dict = dict(zip(name, ticket))\n",
    "print(new_dict)\n",
    "print('Items := ', new_dict.items())\n",
    "print('Key := ', new_dict.keys())\n",
    "print('Values := ', new_dict.values())"
   ]
  },
  {
   "cell_type": "code",
   "execution_count": 24,
   "id": "47b5ef7d",
   "metadata": {},
   "outputs": [
    {
     "name": "stdout",
     "output_type": "stream",
     "text": [
      "Original items: dict_items([('apple', 2), ('orange', 3), ('grapes', 4)])\n",
      "Updated items: dict_items([('orange', 3), ('grapes', 4)])\n"
     ]
    }
   ],
   "source": [
    "# How items() works when a dictionary is modified?\n",
    "sales = { 'apple': 2, 'orange': 3, 'grapes': 4 }\n",
    "\n",
    "items = sales.items()\n",
    "print('Original items:', items)\n",
    "\n",
    "# delete an item from dictionary\n",
    "del[sales['apple']]\n",
    "print('Updated items:', items)"
   ]
  },
  {
   "cell_type": "code",
   "execution_count": 77,
   "id": "730a8c93",
   "metadata": {},
   "outputs": [
    {
     "name": "stdout",
     "output_type": "stream",
     "text": [
      "{'Braund, Mr. Owen Harris': 'A/5 21171', 'Cumings, Mrs. John Bradley (Florence Briggs Thayer)': 'PC 17599', 'Heikkinen, Miss. Laina': 'STON/O2. 3101282', 'Futrelle, Mrs. Jacques Heath (Lily May Peel)': '113803', 'Allen, Mr. William Henry': '373450'}\n",
      "{'Cumings, Mrs. John Bradley (Florence Briggs Thayer)': 'PC 17599', 'Heikkinen, Miss. Laina': 'STON/O2. 3101282', 'Futrelle, Mrs. Jacques Heath (Lily May Peel)': '113803', 'Allen, Mr. William Henry': '373450'}\n"
     ]
    }
   ],
   "source": [
    "print(new_dict)\n",
    "\n",
    "del[new_dict['Braund, Mr. Owen Harris']]\n",
    "\n",
    "print(new_dict)"
   ]
  },
  {
   "cell_type": "code",
   "execution_count": 25,
   "id": "b47886d0",
   "metadata": {},
   "outputs": [
    {
     "name": "stdout",
     "output_type": "stream",
     "text": [
      "dict_keys(['name', 'age', 'salary'])\n",
      "dict_keys([])\n"
     ]
    }
   ],
   "source": [
    "# How keys() works?\n",
    "person = {'name': 'Sourav', 'age': 22, 'salary': 3500.0}\n",
    "print(person.keys())\n",
    "\n",
    "empty_dict = {}\n",
    "print(empty_dict.keys())"
   ]
  },
  {
   "cell_type": "code",
   "execution_count": 26,
   "id": "fa8e4443",
   "metadata": {},
   "outputs": [
    {
     "name": "stdout",
     "output_type": "stream",
     "text": [
      "dict_keys(['Cumings, Mrs. John Bradley (Florence Briggs Thayer)', 'Heikkinen, Miss. Laina', 'Futrelle, Mrs. Jacques Heath (Lily May Peel)', 'Allen, Mr. William Henry', 'Sourav Das'])\n",
      "dict_values(['PC 17599', 'STON/O2. 3101282', '113803', '373450', 237736])\n"
     ]
    }
   ],
   "source": [
    "print(new_dict.keys())\n",
    "\n",
    "print(new_dict.values())"
   ]
  },
  {
   "cell_type": "code",
   "execution_count": 73,
   "id": "fbc2425a",
   "metadata": {},
   "outputs": [
    {
     "name": "stdout",
     "output_type": "stream",
     "text": [
      "Before dictionary is updated\n",
      "dict_keys(['name', 'age'])\n",
      "\n",
      "After dictionary is updated\n",
      "dict_keys(['name', 'age', 'salary'])\n"
     ]
    }
   ],
   "source": [
    "# How keys() works when dictionary is updated?\n",
    "person = {'name': 'Sourav', 'age': 28, }\n",
    "\n",
    "print('Before dictionary is updated')\n",
    "keys = person.keys()\n",
    "print(keys)\n",
    "\n",
    "person.update({'salary': 3500.0})\n",
    "print('\\nAfter dictionary is updated')\n",
    "print(keys)"
   ]
  },
  {
   "cell_type": "code",
   "execution_count": 74,
   "id": "262e6c0d",
   "metadata": {},
   "outputs": [
    {
     "name": "stdout",
     "output_type": "stream",
     "text": [
      "After Update :-\n",
      "dict_keys(['Cumings, Mrs. John Bradley (Florence Briggs Thayer)', 'Heikkinen, Miss. Laina', 'Futrelle, Mrs. Jacques Heath (Lily May Peel)', 'Allen, Mr. William Henry', 'Banti Das'])\n",
      "dict_values(['PC 17599', 'STON/O2. 3101282', '113803', '373450', 2377333])\n"
     ]
    }
   ],
   "source": [
    "new_dict.update({'Banti Das': 2377333})\n",
    "print('After Update :-')\n",
    "print(new_dict.keys())\n",
    "print(new_dict.values())"
   ]
  },
  {
   "cell_type": "code",
   "execution_count": 32,
   "id": "539a11f4",
   "metadata": {},
   "outputs": [
    {
     "name": "stdout",
     "output_type": "stream",
     "text": [
      "Return Value =  ('salary', 10000.0)\n",
      "person =  {'name': 'Sourav', 'age': 28}\n",
      "Return Value =  ('profession', 'Intern')\n",
      "person =  {'name': 'Sourav', 'age': 28}\n"
     ]
    },
    {
     "data": {
      "text/plain": [
       "{'name': 'Sourav', 'age': 28}"
      ]
     },
     "execution_count": 32,
     "metadata": {},
     "output_type": "execute_result"
    }
   ],
   "source": [
    "# Working of popitem() method\n",
    "person = {'name': 'Sourav', 'age': 28, 'salary': 10000.0}\n",
    "\n",
    "result = person.popitem()\n",
    "\n",
    "print('Return Value = ', result)\n",
    "print('person = ', person)\n",
    "\n",
    "# inserting a new element pair\n",
    "person['profession'] = 'Intern'\n",
    "\n",
    "result = person.popitem()\n",
    "\n",
    "print('Return Value = ', result)\n",
    "print('person = ', person)"
   ]
  },
  {
   "cell_type": "code",
   "execution_count": 33,
   "id": "63617032",
   "metadata": {},
   "outputs": [
    {
     "name": "stdout",
     "output_type": "stream",
     "text": [
      "Popped Item =  ('Banti Das', 2377333)\n"
     ]
    },
    {
     "data": {
      "text/plain": [
       "{'Cumings, Mrs. John Bradley (Florence Briggs Thayer)': 'PC 17599',\n",
       " 'Heikkinen, Miss. Laina': 'STON/O2. 3101282',\n",
       " 'Futrelle, Mrs. Jacques Heath (Lily May Peel)': '113803',\n",
       " 'Allen, Mr. William Henry': '373450',\n",
       " 'Banti': '45862/NJK/693'}"
      ]
     },
     "execution_count": 33,
     "metadata": {},
     "output_type": "execute_result"
    }
   ],
   "source": [
    "popitem = new_dict.popitem()\n",
    "\n",
    "print('Popped Item = ', popitem)\n",
    "\n",
    "new_dict['Banti'] = '45862/NJK/693'\n",
    "new_dict"
   ]
  },
  {
   "cell_type": "code",
   "execution_count": 31,
   "id": "b5f492a6",
   "metadata": {},
   "outputs": [
    {
     "name": "stdout",
     "output_type": "stream",
     "text": [
      "person =  {'name': 'Sourav', 'age': 28}\n",
      "Age =  28\n"
     ]
    }
   ],
   "source": [
    "# How setdefault() works when key is in the dictionary?\n",
    "person = {'name': 'Sourav', 'age': 28}\n",
    "\n",
    "age = person.setdefault('age')\n",
    "print('person = ',person)\n",
    "print('Age = ',age)"
   ]
  },
  {
   "cell_type": "code",
   "execution_count": 34,
   "id": "b9339114",
   "metadata": {},
   "outputs": [
    {
     "name": "stdout",
     "output_type": "stream",
     "text": [
      "{'Cumings, Mrs. John Bradley (Florence Briggs Thayer)': 'PC 17599', 'Heikkinen, Miss. Laina': 'STON/O2. 3101282', 'Futrelle, Mrs. Jacques Heath (Lily May Peel)': '113803', 'Allen, Mr. William Henry': '373450', 'Banti': '45862/NJK/693'}\n"
     ]
    },
    {
     "data": {
      "text/plain": [
       "'45862/NJK/693'"
      ]
     },
     "execution_count": 34,
     "metadata": {},
     "output_type": "execute_result"
    }
   ],
   "source": [
    "nw_dct = new_dict.setdefault('Banti')\n",
    "print(new_dict)\n",
    "nw_dct"
   ]
  },
  {
   "cell_type": "code",
   "execution_count": 56,
   "id": "31c7460a",
   "metadata": {},
   "outputs": [
    {
     "name": "stdout",
     "output_type": "stream",
     "text": [
      "person =  {'name': 'Sourav', 'salary': None}\n",
      "salary =  None\n",
      "person =  {'name': 'Sourav', 'salary': None, 'age': 28}\n",
      "age =  28\n"
     ]
    }
   ],
   "source": [
    "# How setdefault() works when key is not in the dictionary?\n",
    "person = {'name': 'Sourav'}\n",
    "\n",
    "# key is not in the dictionary\n",
    "salary = person.setdefault('salary')\n",
    "print('person = ',person)\n",
    "print('salary = ',salary)\n",
    "\n",
    "# key is not in the dictionary\n",
    "# default_value is provided\n",
    "age = person.setdefault('age', 28)\n",
    "print('person = ',person)\n",
    "print('age = ',age)"
   ]
  },
  {
   "cell_type": "code",
   "execution_count": 39,
   "id": "0e2efbbd",
   "metadata": {},
   "outputs": [
    {
     "name": "stdout",
     "output_type": "stream",
     "text": [
      "Sourav =  None\n",
      "Dict =  {'Cumings, Mrs. John Bradley (Florence Briggs Thayer)': 'PC 17599', 'Heikkinen, Miss. Laina': 'STON/O2. 3101282', 'Futrelle, Mrs. Jacques Heath (Lily May Peel)': '113803', 'Allen, Mr. William Henry': '373450', 'Banti': '45862/NJK/693', 'Sourav': None}\n",
      "Keys : =  dict_keys(['Cumings, Mrs. John Bradley (Florence Briggs Thayer)', 'Heikkinen, Miss. Laina', 'Futrelle, Mrs. Jacques Heath (Lily May Peel)', 'Allen, Mr. William Henry', 'Banti', 'Sourav'])\n",
      "Values :=  dict_values(['PC 17599', 'STON/O2. 3101282', '113803', '373450', '45862/NJK/693', None])\n"
     ]
    }
   ],
   "source": [
    "a = new_dict.copy()\n",
    "a\n",
    "nw = new_dict.setdefault('Sourav')\n",
    "print('Sourav = ',nw)\n",
    "print('Dict = ',a)\n",
    "print('Keys : = ', a.keys())\n",
    "print('Values := ', a.values())"
   ]
  },
  {
   "cell_type": "code",
   "execution_count": 41,
   "id": "02812829",
   "metadata": {},
   "outputs": [
    {
     "name": "stdout",
     "output_type": "stream",
     "text": [
      "{'Cumings, Mrs. John Bradley (Florence Briggs Thayer)': 'PC 17599', 'Heikkinen, Miss. Laina': 'STON/O2. 3101282', 'Futrelle, Mrs. Jacques Heath (Lily May Peel)': '113803', 'Allen, Mr. William Henry': '373450', 'Banti': '45862/NJK/693', 'Sourav': None, 'Das': '5863/HYE/696'}\n",
      "5863/HYE/696\n"
     ]
    }
   ],
   "source": [
    "# default_value is provided\n",
    "Das = a.setdefault('Das', '5863/HYE/696')\n",
    "print(a)\n",
    "print(Das)"
   ]
  },
  {
   "cell_type": "code",
   "execution_count": 40,
   "id": "db1f7f83",
   "metadata": {},
   "outputs": [
    {
     "name": "stdout",
     "output_type": "stream",
     "text": [
      "The popped element is: 2\n",
      "The dictionary is: {'orange': 3, 'grapes': 4}\n"
     ]
    }
   ],
   "source": [
    "# Pop an element from the dictionary\n",
    "sales = { 'apple': 2, 'orange': 3, 'grapes': 4 }\n",
    "\n",
    "element = sales.pop('apple')\n",
    "print('The popped element is:', element)\n",
    "print('The dictionary is:', sales)"
   ]
  },
  {
   "cell_type": "code",
   "execution_count": 44,
   "id": "a46f62fc",
   "metadata": {},
   "outputs": [
    {
     "name": "stdout",
     "output_type": "stream",
     "text": [
      "{'Cumings, Mrs. John Bradley (Florence Briggs Thayer)': 'PC 17599', 'Heikkinen, Miss. Laina': 'STON/O2. 3101282', 'Futrelle, Mrs. Jacques Heath (Lily May Peel)': '113803', 'Allen, Mr. William Henry': '373450', 'Banti': '45862/NJK/693', 'Sourav': None, 'Das': '5863/HYE/696'}\n",
      "Popped Items :=  5863/HYE/696\n"
     ]
    },
    {
     "data": {
      "text/plain": [
       "{'Cumings, Mrs. John Bradley (Florence Briggs Thayer)': 'PC 17599',\n",
       " 'Heikkinen, Miss. Laina': 'STON/O2. 3101282',\n",
       " 'Futrelle, Mrs. Jacques Heath (Lily May Peel)': '113803',\n",
       " 'Allen, Mr. William Henry': '373450',\n",
       " 'Banti': '45862/NJK/693',\n",
       " 'Sourav': None}"
      ]
     },
     "execution_count": 44,
     "metadata": {},
     "output_type": "execute_result"
    }
   ],
   "source": [
    "print(a)\n",
    "print('Popped Items := ', a.pop('Das'))\n",
    "a"
   ]
  },
  {
   "cell_type": "code",
   "execution_count": 35,
   "id": "dea200db",
   "metadata": {},
   "outputs": [
    {
     "ename": "KeyError",
     "evalue": "'guava'",
     "output_type": "error",
     "traceback": [
      "\u001b[0;31m---------------------------------------------------------------------------\u001b[0m",
      "\u001b[0;31mKeyError\u001b[0m                                  Traceback (most recent call last)",
      "\u001b[0;32m/tmp/ipykernel_28076/445809645.py\u001b[0m in \u001b[0;36m<module>\u001b[0;34m\u001b[0m\n\u001b[1;32m      2\u001b[0m \u001b[0msales\u001b[0m \u001b[0;34m=\u001b[0m \u001b[0;34m{\u001b[0m \u001b[0;34m'apple'\u001b[0m\u001b[0;34m:\u001b[0m \u001b[0;36m2\u001b[0m\u001b[0;34m,\u001b[0m \u001b[0;34m'orange'\u001b[0m\u001b[0;34m:\u001b[0m \u001b[0;36m3\u001b[0m\u001b[0;34m,\u001b[0m \u001b[0;34m'grapes'\u001b[0m\u001b[0;34m:\u001b[0m \u001b[0;36m4\u001b[0m \u001b[0;34m}\u001b[0m\u001b[0;34m\u001b[0m\u001b[0;34m\u001b[0m\u001b[0m\n\u001b[1;32m      3\u001b[0m \u001b[0;34m\u001b[0m\u001b[0m\n\u001b[0;32m----> 4\u001b[0;31m \u001b[0melement\u001b[0m \u001b[0;34m=\u001b[0m \u001b[0msales\u001b[0m\u001b[0;34m.\u001b[0m\u001b[0mpop\u001b[0m\u001b[0;34m(\u001b[0m\u001b[0;34m'guava'\u001b[0m\u001b[0;34m)\u001b[0m\u001b[0;34m\u001b[0m\u001b[0;34m\u001b[0m\u001b[0m\n\u001b[0m",
      "\u001b[0;31mKeyError\u001b[0m: 'guava'"
     ]
    }
   ],
   "source": [
    "# Pop an element not present from the dictionary\n",
    "sales = { 'apple': 2, 'orange': 3, 'grapes': 4 }\n",
    "\n",
    "element = sales.pop('guava')"
   ]
  },
  {
   "cell_type": "code",
   "execution_count": 45,
   "id": "ee595e42",
   "metadata": {},
   "outputs": [
    {
     "ename": "KeyError",
     "evalue": "'Das'",
     "output_type": "error",
     "traceback": [
      "\u001b[0;31m---------------------------------------------------------------------------\u001b[0m",
      "\u001b[0;31mKeyError\u001b[0m                                  Traceback (most recent call last)",
      "\u001b[0;32m/tmp/ipykernel_7773/2879553865.py\u001b[0m in \u001b[0;36m<module>\u001b[0;34m\u001b[0m\n\u001b[0;32m----> 1\u001b[0;31m \u001b[0mprint\u001b[0m\u001b[0;34m(\u001b[0m\u001b[0;34m'Popped Items := '\u001b[0m\u001b[0;34m,\u001b[0m \u001b[0ma\u001b[0m\u001b[0;34m.\u001b[0m\u001b[0mpop\u001b[0m\u001b[0;34m(\u001b[0m\u001b[0;34m'Das'\u001b[0m\u001b[0;34m)\u001b[0m\u001b[0;34m)\u001b[0m\u001b[0;34m\u001b[0m\u001b[0;34m\u001b[0m\u001b[0m\n\u001b[0m",
      "\u001b[0;31mKeyError\u001b[0m: 'Das'"
     ]
    }
   ],
   "source": [
    "print('Popped Items := ', a.pop('Das'))"
   ]
  },
  {
   "cell_type": "code",
   "execution_count": 12,
   "id": "0e52e4c9",
   "metadata": {},
   "outputs": [
    {
     "name": "stdout",
     "output_type": "stream",
     "text": [
      "The popped element is: banana\n",
      "The dictionary is: {'apple': 2, 'orange': 3, 'grapes': 4}\n"
     ]
    }
   ],
   "source": [
    "# Pop an element not present from the dictionary, provided a default value\n",
    "sales = { 'apple': 2, 'orange': 3, 'grapes': 4 }\n",
    "\n",
    "element = sales.pop('guava', 'banana')\n",
    "print('The popped element is:', element)\n",
    "print('The dictionary is:', sales)"
   ]
  },
  {
   "cell_type": "code",
   "execution_count": 37,
   "id": "5e6c6b88",
   "metadata": {},
   "outputs": [
    {
     "name": "stdout",
     "output_type": "stream",
     "text": [
      "dict_values([2, 3, 4])\n"
     ]
    }
   ],
   "source": [
    "# Get all values from the dictionary\n",
    "sales = { 'apple': 2, 'orange': 3, 'grapes': 4 }\n",
    "\n",
    "print(sales.values())"
   ]
  },
  {
   "cell_type": "code",
   "execution_count": 47,
   "id": "6a575d0f",
   "metadata": {},
   "outputs": [
    {
     "name": "stdout",
     "output_type": "stream",
     "text": [
      "{'Cumings, Mrs. John Bradley (Florence Briggs Thayer)': 'PC 17599', 'Heikkinen, Miss. Laina': 'STON/O2. 3101282', 'Futrelle, Mrs. Jacques Heath (Lily May Peel)': '113803', 'Allen, Mr. William Henry': '373450', 'Banti': '45862/NJK/693', 'Sourav': None}\n",
      "dict_values(['PC 17599', 'STON/O2. 3101282', '113803', '373450', '45862/NJK/693', None])\n"
     ]
    }
   ],
   "source": [
    "print(new_dict)\n",
    "print(new_dict.values())"
   ]
  },
  {
   "cell_type": "code",
   "execution_count": 38,
   "id": "37a7ec80",
   "metadata": {},
   "outputs": [
    {
     "name": "stdout",
     "output_type": "stream",
     "text": [
      "Original items: dict_values([2, 3, 4])\n",
      "Updated items: dict_values([3, 4])\n"
     ]
    }
   ],
   "source": [
    "# How values() works when dictionary is modified?\n",
    "sales = { 'apple': 2, 'orange': 3, 'grapes': 4 }\n",
    "\n",
    "values = sales.values()\n",
    "print('Original items:', values)\n",
    "\n",
    "del[sales['apple']]\n",
    "print('Updated items:', values)"
   ]
  },
  {
   "cell_type": "code",
   "execution_count": 58,
   "id": "1f6eb728",
   "metadata": {},
   "outputs": [
    {
     "name": "stdout",
     "output_type": "stream",
     "text": [
      "{'Cumings, Mrs. John Bradley (Florence Briggs Thayer)': 'PC 17599', 'Heikkinen, Miss. Laina': 'STON/O2. 3101282', 'Futrelle, Mrs. Jacques Heath (Lily May Peel)': '113803', 'Allen, Mr. William Henry': '373450', 'Banti': '45862/NJK/693'}\n",
      "Updated items: dict_values(['PC 17599', 'STON/O2. 3101282', '113803', '373450'])\n",
      "{'Cumings, Mrs. John Bradley (Florence Briggs Thayer)': 'PC 17599', 'Heikkinen, Miss. Laina': 'STON/O2. 3101282', 'Futrelle, Mrs. Jacques Heath (Lily May Peel)': '113803', 'Allen, Mr. William Henry': '373450'}\n"
     ]
    }
   ],
   "source": [
    "print(new_dict)\n",
    "\n",
    "del[new_dict['Banti']]\n",
    "values = new_dict.values()\n",
    "print('Updated items:', values)\n",
    "print(new_dict)"
   ]
  },
  {
   "cell_type": "code",
   "execution_count": 39,
   "id": "77da479b",
   "metadata": {},
   "outputs": [
    {
     "name": "stdout",
     "output_type": "stream",
     "text": [
      "{1: 'one', 2: 'two'}\n",
      "{1: 'one', 2: 'two', 3: 'three'}\n"
     ]
    }
   ],
   "source": [
    "# Working of update()\n",
    "d = {1: \"one\", 2: \"three\"}\n",
    "d1 = {2: \"two\"}\n",
    "\n",
    "# updates the value of key 2\n",
    "d.update(d1)\n",
    "print(d)\n",
    "\n",
    "d1 = {3: \"three\"}\n",
    "\n",
    "# adds element with key 3\n",
    "d.update(d1)\n",
    "print(d)"
   ]
  },
  {
   "cell_type": "code",
   "execution_count": 94,
   "id": "8d46b073",
   "metadata": {},
   "outputs": [
    {
     "name": "stdout",
     "output_type": "stream",
     "text": [
      "{1: 'fg', 2: 'kl'}\n",
      "{1: 'fg', 2: 'kl', 3: 'op'}\n"
     ]
    }
   ],
   "source": [
    "p = {1: 'fg', 2: 'jh'}\n",
    "l = {2: 'kl'}\n",
    "\n",
    "p.update(l)\n",
    "print(p)\n",
    "\n",
    "l = {3: 'op'}\n",
    "\n",
    "p.update(l)\n",
    "print(p)"
   ]
  },
  {
   "cell_type": "code",
   "execution_count": 40,
   "id": "020b8507",
   "metadata": {},
   "outputs": [
    {
     "name": "stdout",
     "output_type": "stream",
     "text": [
      "{'x': 2, 'y': 3, 'z': 0}\n"
     ]
    }
   ],
   "source": [
    "# update() When Tuple is Passed\n",
    "d = {'x': 2}\n",
    "\n",
    "d.update(y = 3, z = 0)\n",
    "print(d)"
   ]
  },
  {
   "cell_type": "code",
   "execution_count": 90,
   "id": "07ed36a8",
   "metadata": {
    "scrolled": false
   },
   "outputs": [
    {
     "name": "stdout",
     "output_type": "stream",
     "text": [
      "{0: 22.0, 1: 38.0, 2: 26.0, 3: 35.0, 4: 35.0, 5: nan, 6: 54.0, 7: 2.0}\n"
     ]
    }
   ],
   "source": [
    "age = dict(df['Age'].head(8))\n",
    "print(age)\n",
    "# age.update(8 = 65.0, 9 = 66)\n",
    "# print(age)"
   ]
  },
  {
   "cell_type": "code",
   "execution_count": 91,
   "id": "8560bd1d",
   "metadata": {},
   "outputs": [
    {
     "name": "stdout",
     "output_type": "stream",
     "text": [
      "{'j': 5, 'k': 6, 'l': 7}\n"
     ]
    }
   ],
   "source": [
    "f = {'j': 5}\n",
    "f.update(k = 6, l = 7)\n",
    "print(f)"
   ]
  },
  {
   "cell_type": "code",
   "execution_count": null,
   "id": "ee9f421e",
   "metadata": {},
   "outputs": [],
   "source": []
  }
 ],
 "metadata": {
  "interpreter": {
   "hash": "31f2aee4e71d21fbe5cf8b01ff0e069b9275f58929596ceb00d14d90e3e16cd6"
  },
  "kernelspec": {
   "display_name": "Python 3 (ipykernel)",
   "language": "python",
   "name": "python3"
  },
  "language_info": {
   "codemirror_mode": {
    "name": "ipython",
    "version": 3
   },
   "file_extension": ".py",
   "mimetype": "text/x-python",
   "name": "python",
   "nbconvert_exporter": "python",
   "pygments_lexer": "ipython3",
   "version": "3.8.10"
  }
 },
 "nbformat": 4,
 "nbformat_minor": 5
}
