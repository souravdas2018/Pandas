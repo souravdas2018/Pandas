{
 "cells": [
  {
   "cell_type": "code",
   "execution_count": 1,
   "id": "7ae65d95",
   "metadata": {},
   "outputs": [
    {
     "name": "stdout",
     "output_type": "stream",
     "text": [
      "{101: 'Sourav', 102: 'Sayan', 103: 'Kumar'}\n",
      "{'Sourav': 20000, 'Sayan': 30000, 'Kumar': 40000}\n"
     ]
    }
   ],
   "source": [
    "stu = {101 : 'Sourav', 102 : 'Sayan', 103 : 'Kumar'}\n",
    "fees = {'Sourav' : 20000, 'Sayan' : 30000, 'Kumar' : 40000}\n",
    "print (stu)\n",
    "print (fees)"
   ]
  },
  {
   "cell_type": "code",
   "execution_count": 2,
   "id": "9ab80b7e",
   "metadata": {},
   "outputs": [
    {
     "name": "stdout",
     "output_type": "stream",
     "text": [
      "Modification\n",
      "{101: 'Banti', 102: 'Sayan', 103: 'Kumar'}\n"
     ]
    }
   ],
   "source": [
    "print('Modification')\n",
    "stu[101] = 'Banti'\n",
    "print (stu)"
   ]
  },
  {
   "cell_type": "code",
   "execution_count": 3,
   "id": "e87769e9",
   "metadata": {},
   "outputs": [
    {
     "name": "stdout",
     "output_type": "stream",
     "text": [
      "Adding\n",
      "{101: 'Banti', 102: 'Sayan', 103: 'Kumar', 104: 'Python'}\n"
     ]
    }
   ],
   "source": [
    "print('Adding')\n",
    "stu[104] = 'Python'\n",
    "print(stu)"
   ]
  },
  {
   "cell_type": "code",
   "execution_count": 5,
   "id": "42c2608f",
   "metadata": {},
   "outputs": [
    {
     "name": "stdout",
     "output_type": "stream",
     "text": [
      "Delete\n",
      "{'Sayan': 30000, 'Kumar': 40000}\n"
     ]
    }
   ],
   "source": [
    "print('Delete')\n",
    "del fees['Sourav']\n",
    "print(fees)"
   ]
  },
  {
   "cell_type": "code",
   "execution_count": 6,
   "id": "efc7e982",
   "metadata": {},
   "outputs": [
    {
     "name": "stdout",
     "output_type": "stream",
     "text": [
      "Clear Dictionary\n",
      "{}\n"
     ]
    }
   ],
   "source": [
    "print('Clear Dictionary')\n",
    "fees.clear()\n",
    "print(fees)"
   ]
  },
  {
   "cell_type": "code",
   "execution_count": 7,
   "id": "e6764e83",
   "metadata": {},
   "outputs": [
    {
     "name": "stdout",
     "output_type": "stream",
     "text": [
      "Copy Dictionary\n",
      "{101: 'Banti', 102: 'Sayan', 103: 'Kumar', 104: 'Python'}\n"
     ]
    }
   ],
   "source": [
    "print('Copy Dictionary')\n",
    "new_dic = stu.copy()\n",
    "print(new_dic)"
   ]
  },
  {
   "cell_type": "code",
   "execution_count": 8,
   "id": "6a936744",
   "metadata": {},
   "outputs": [
    {
     "name": "stdout",
     "output_type": "stream",
     "text": [
      "Create Dictionary using formkeys Method\n",
      "{1001: ('Hello', 'World', 'Python'), 1002: ('Hello', 'World', 'Python'), 1003: ('Hello', 'World', 'Python')}\n",
      "{1001: 'Python', 1002: 'Python', 1003: 'Python'}\n"
     ]
    }
   ],
   "source": [
    "print('Create Dictionary using formkeys Method')\n",
    "key = (1001,1002,1003)\n",
    "value01 = 'Hello', 'World', 'Python'\n",
    "d =  dict.fromkeys(key,value01)\n",
    "print (d)\n",
    "value02 = 'Python'\n",
    "e = dict.fromkeys(key,value02)\n",
    "print (e)"
   ]
  },
  {
   "cell_type": "code",
   "execution_count": 9,
   "id": "2a35d238",
   "metadata": {},
   "outputs": [
    {
     "name": "stdout",
     "output_type": "stream",
     "text": [
      "Get Method\n",
      "{101: 'Banti', 102: 'Sayan', 103: 'Kumar', 104: 'Python'}\n",
      "Banti\n",
      "Python\n"
     ]
    }
   ],
   "source": [
    "print('Get Method')\n",
    "print (stu)\n",
    "print (stu.get(101))\n",
    "print (stu.get(104))"
   ]
  },
  {
   "cell_type": "code",
   "execution_count": 10,
   "id": "c617d64c",
   "metadata": {},
   "outputs": [
    {
     "name": "stdout",
     "output_type": "stream",
     "text": [
      "Items Method\n",
      "{101: 'Banti', 102: 'Sayan', 103: 'Kumar', 104: 'Python'}\n",
      "dict_items([(101, 'Banti'), (102, 'Sayan'), (103, 'Kumar'), (104, 'Python')])\n",
      "<class 'dict_items'>\n",
      "[(101, 'Banti'), (102, 'Sayan'), (103, 'Kumar'), (104, 'Python')]\n",
      "<class 'list'>\n",
      "(101, 'Banti')\n",
      "(102, 'Sayan')\n"
     ]
    }
   ],
   "source": [
    "print('Items Method')\n",
    "print (stu)\n",
    "it = stu.items()\n",
    "print (it)\n",
    "print (type(it))\n",
    "lst = list(it)\n",
    "print (lst)\n",
    "print (type(lst))\n",
    "print (lst[0])\n",
    "print (lst[1])"
   ]
  },
  {
   "cell_type": "code",
   "execution_count": 11,
   "id": "aff98540",
   "metadata": {},
   "outputs": [
    {
     "name": "stdout",
     "output_type": "stream",
     "text": [
      "Keys Method\n",
      " Original Dictionary\n",
      "{101: 'Banti', 102: 'Sayan', 103: 'Kumar', 104: 'Python'}\n",
      "\n",
      "dict_keys([101, 102, 103, 104])\n",
      "<class 'dict_keys'>\n",
      "\n",
      "[101, 102, 103, 104]\n",
      "<class 'list'>\n"
     ]
    }
   ],
   "source": [
    "print('Keys Method')\n",
    "print (\" Original Dictionary\")\n",
    "print (stu)\n",
    "print ()\n",
    "all_keys = stu.keys()\n",
    "print (all_keys)\n",
    "print (type(all_keys))\n",
    "print ()\n",
    "keys_lst = list(all_keys)\n",
    "print (keys_lst)\n",
    "print (type(keys_lst))"
   ]
  },
  {
   "cell_type": "code",
   "execution_count": 12,
   "id": "3ad94d4e",
   "metadata": {},
   "outputs": [
    {
     "name": "stdout",
     "output_type": "stream",
     "text": [
      "Values Method\n",
      "{101: 'Banti', 102: 'Sayan', 103: 'Kumar', 104: 'Python'}\n",
      "\n",
      "dict_values(['Banti', 'Sayan', 'Kumar', 'Python'])\n",
      "<class 'dict_values'>\n",
      "\n",
      "['Banti', 'Sayan', 'Kumar', 'Python']\n",
      "<class 'list'>\n"
     ]
    }
   ],
   "source": [
    "print('Values Method')\n",
    "print (stu)\n",
    "print ()\n",
    "all_values = stu.values()\n",
    "print (all_values)\n",
    "print (type(all_values))\n",
    "print ()\n",
    "values_lst = list(all_values)\n",
    "print (values_lst)\n",
    "print (type(values_lst))"
   ]
  },
  {
   "cell_type": "code",
   "execution_count": 13,
   "id": "383efb27",
   "metadata": {},
   "outputs": [
    {
     "name": "stdout",
     "output_type": "stream",
     "text": [
      "Updating Dictionary\n",
      "{101: 'Banti', 102: 'Sayan', 103: 'Kumar', 104: 'Python'}\n"
     ]
    }
   ],
   "source": [
    "print (stu)"
   ]
  },
  {
   "cell_type": "code",
   "execution_count": 14,
   "id": "8a27e70d",
   "metadata": {},
   "outputs": [
    {
     "name": "stdout",
     "output_type": "stream",
     "text": [
      "Updating Dictionary\n",
      "{101: 'Banti', 102: 'Sayan', 103: 'Kumar', 104: 'Python', 105: 'Das', 106: 'Java', 107: 'C++'}\n"
     ]
    }
   ],
   "source": [
    "print('Updating Dictionary')\n",
    "stu.update({105 : 'Das', 106 : 'Java'})\n",
    "stu.update({107 : 'C++'})\n",
    "print(stu)"
   ]
  },
  {
   "cell_type": "code",
   "execution_count": 15,
   "id": "b0ee4c04",
   "metadata": {},
   "outputs": [
    {
     "name": "stdout",
     "output_type": "stream",
     "text": [
      "Pop Method\n",
      "Java\n",
      "After Popping :=  {101: 'Banti', 102: 'Sayan', 103: 'Kumar', 104: 'Python', 105: 'Das', 107: 'C++'}\n"
     ]
    }
   ],
   "source": [
    "print('Pop Method')\n",
    "print(stu.pop(106))\n",
    "print ('After Pop() := ', stu)"
   ]
  },
  {
   "cell_type": "code",
   "execution_count": 16,
   "id": "9327f638",
   "metadata": {},
   "outputs": [
    {
     "name": "stdout",
     "output_type": "stream",
     "text": [
      "Popitem Method\n",
      "(107, 'C++')\n",
      "After Popitem() :=  {101: 'Banti', 102: 'Sayan', 103: 'Kumar', 104: 'Python', 105: 'Das'}\n"
     ]
    }
   ],
   "source": [
    "print('Popitem Method')\n",
    "print(stu.popitem())\n",
    "print ('After Popitem() := ', stu)"
   ]
  },
  {
   "cell_type": "code",
   "execution_count": 17,
   "id": "3251e02c",
   "metadata": {},
   "outputs": [
    {
     "name": "stdout",
     "output_type": "stream",
     "text": [
      "All Keys And Values :=\n",
      "101 = Banti\n",
      "102 = Sayan\n",
      "103 = Kumar\n",
      "104 = Python\n",
      "105 = Das\n",
      "THE KEYS ARE :- \n",
      "101\n",
      "102\n",
      "103\n",
      "104\n",
      "105\n",
      "THE VALUES ARE :- \n",
      "Banti\n",
      "Sayan\n",
      "Kumar\n",
      "Python\n",
      "Das\n"
     ]
    }
   ],
   "source": [
    "print('All Keys And Values :=')\n",
    "for k in stu:\n",
    "    print (k, \"=\", stu[k])\n",
    "print (\"THE KEYS ARE :- \")\n",
    "for k in stu :\n",
    "    print (k)\n",
    "print (\"THE VALUES ARE :- \")\n",
    "for k in stu :\n",
    "    print (stu[k])"
   ]
  },
  {
   "cell_type": "code",
   "execution_count": 19,
   "id": "ef68c6ba",
   "metadata": {},
   "outputs": [
    {
     "name": "stdout",
     "output_type": "stream",
     "text": [
      "Nested Dictionary\n",
      "{'Course': 'Python', 'Fees': 15000, 1: {'Course': 'Java', 'Fees': 16000}}\n"
     ]
    }
   ],
   "source": [
    "print('Nested Dictionary')\n",
    "nested_dic = {'Course' : 'Python', 'Fees' : 15000, 1:{'Course' : 'Java', 'Fees' : 16000}}\n",
    "print(nested_dic)"
   ]
  },
  {
   "cell_type": "code",
   "execution_count": null,
   "id": "5ea290f3",
   "metadata": {},
   "outputs": [],
   "source": []
  }
 ],
 "metadata": {
  "kernelspec": {
   "display_name": "Python 3.8.10 64-bit",
   "language": "python",
   "name": "python3810jvsc74a57bd031f2aee4e71d21fbe5cf8b01ff0e069b9275f58929596ceb00d14d90e3e16cd6"
  },
  "language_info": {
   "codemirror_mode": {
    "name": "ipython",
    "version": 3
   },
   "file_extension": ".py",
   "mimetype": "text/x-python",
   "name": "python",
   "nbconvert_exporter": "python",
   "pygments_lexer": "ipython3",
   "version": "3.8.10"
  }
 },
 "nbformat": 4,
 "nbformat_minor": 5
}
