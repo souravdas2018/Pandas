{
 "cells": [
  {
   "cell_type": "code",
   "execution_count": 22,
   "id": "2901a8f1",
   "metadata": {},
   "outputs": [
    {
     "name": "stdout",
     "output_type": "stream",
     "text": [
      "[1, 2, 5.69, -6, 'SOURAV']\n",
      "1\n",
      "2\n",
      "5.69\n",
      "-6\n",
      "SOURAV\n"
     ]
    }
   ],
   "source": [
    "list = [1, 2, 5.69, -6, 'SOURAV']\n",
    "print(list)\n",
    "for element in list:\n",
    "    print (element)"
   ]
  },
  {
   "cell_type": "code",
   "execution_count": 5,
   "id": "f0399eda",
   "metadata": {},
   "outputs": [
    {
     "name": "stdout",
     "output_type": "stream",
     "text": [
      "Index 0 = 1\n",
      "Index 1 = 2\n",
      "Index 2 = 5.69\n",
      "Index 3 = -6\n",
      "Index 4 = SOURAV\n"
     ]
    }
   ],
   "source": [
    "# n= len(list)\n",
    "for i in range(n):\n",
    "    print (\"Index\", i, \"=\", list[i]) "
   ]
  },
  {
   "cell_type": "code",
   "execution_count": 12,
   "id": "58d193e7",
   "metadata": {},
   "outputs": [
    {
     "name": "stdout",
     "output_type": "stream",
     "text": [
      "Index of Element :-  4\n",
      "Particular Element :-  -6\n"
     ]
    }
   ],
   "source": [
    "print(\"Index of Element :- \",list.index('SOURAV'))\n",
    "print (\"Particular Element :- \", list[3])"
   ]
  },
  {
   "cell_type": "code",
   "execution_count": 18,
   "id": "5a1c3aa7",
   "metadata": {},
   "outputs": [
    {
     "name": "stdout",
     "output_type": "stream",
     "text": [
      "Modifing list\n",
      "[1, 2, 5.69, 'Das', 'SOURAV']\n",
      "Appending List\n",
      "[1, 2, 5.69, 'Das', 'SOURAV', -6]\n"
     ]
    }
   ],
   "source": [
    "print(\"Modifing list\")\n",
    "list[3] = 'Das'\n",
    "print(list)\n",
    "print(\"Appending List\")\n",
    "list.append(-6)\n",
    "print(list)"
   ]
  },
  {
   "cell_type": "code",
   "execution_count": 23,
   "id": "d13e2939",
   "metadata": {},
   "outputs": [
    {
     "name": "stdout",
     "output_type": "stream",
     "text": [
      "Popping\n",
      "Element Popped :  -6\n",
      "List After Popping :  [1, 2, 5.69]\n"
     ]
    }
   ],
   "source": [
    "print(\"Popping\")\n",
    "list.pop()\n",
    "print(\"Element Popped : \", list.pop())\n",
    "print(\"List After Popping : \", list)"
   ]
  },
  {
   "cell_type": "code",
   "execution_count": 24,
   "id": "27ddbbdc",
   "metadata": {},
   "outputs": [
    {
     "name": "stdout",
     "output_type": "stream",
     "text": [
      "Removing\n",
      "[2, 5.69]\n"
     ]
    }
   ],
   "source": [
    "print(\"Removing\")\n",
    "list.remove(1)\n",
    "print(list)\n"
   ]
  },
  {
   "cell_type": "code",
   "execution_count": 25,
   "id": "6c6a1995",
   "metadata": {},
   "outputs": [
    {
     "name": "stdout",
     "output_type": "stream",
     "text": [
      "[5.69, 2]\n"
     ]
    }
   ],
   "source": [
    "list.reverse()\n",
    "print(list)"
   ]
  },
  {
   "cell_type": "code",
   "execution_count": 27,
   "id": "8d9b15fa",
   "metadata": {},
   "outputs": [
    {
     "name": "stdout",
     "output_type": "stream",
     "text": [
      "Extend\n",
      " NEW LIST :-  [100, 200, 300, -8855.669, 'DAS', 'DEY']\n",
      "LIST AFTER EXTEND :-  [5.69, 2, 100, 200, 300, -8855.669, 'DAS', 'DEY', 100, 200, 300, -8855.669, 'DAS', 'DEY']\n"
     ]
    }
   ],
   "source": [
    "print(\"Extend\")\n",
    "list2 = [100,200,300,-8855.669,'DAS','DEY']\n",
    "print(\" NEW LIST :- \", list2)\n",
    "list.extend(list2)\n",
    "print (\"LIST AFTER EXTEND :- \", list)"
   ]
  },
  {
   "cell_type": "code",
   "execution_count": 42,
   "id": "4aa162c6",
   "metadata": {},
   "outputs": [
    {
     "name": "stdout",
     "output_type": "stream",
     "text": [
      "[-8855.669, 2, 5.69, 100, 200, 300, 'DAS', 'DEY', 100, 200, 300, -8855.669, 'DAS', 'DEY']\n",
      "2\n"
     ]
    }
   ],
   "source": [
    "print(list)\n",
    "print(list.count(100))\n",
    "\n",
    "# list.sort()\n",
    "# print(list)"
   ]
  },
  {
   "cell_type": "code",
   "execution_count": 35,
   "id": "f59b4500",
   "metadata": {},
   "outputs": [
    {
     "name": "stdout",
     "output_type": "stream",
     "text": [
      "Slicing\n",
      "[200, 300, 'DAS', 'DEY', 100]\n"
     ]
    }
   ],
   "source": [
    "print(\"Slicing\")\n",
    "print(list[4:9])"
   ]
  },
  {
   "cell_type": "code",
   "execution_count": 43,
   "id": "c1a277c2",
   "metadata": {},
   "outputs": [
    {
     "name": "stdout",
     "output_type": "stream",
     "text": [
      "Concatenation := \n",
      "LIST AFTER CONCATENATION [125, 69, 366, 54, 254, 58, 68, 88, 525, 'Sourav', 'Das', 87, 69, 5, 45, 'Sayan', 'Dey']\n",
      "Repetition := \n",
      "[1, 2, 3, 1, 2, 3]\n"
     ]
    }
   ],
   "source": [
    "print (\"Concatenation := \")\n",
    "t = [125, 69, 366, 54, 254]\n",
    "r = [58,68,88,525,'Sourav', 'Das']\n",
    "o = [87,69,5,45,'Sayan','Dey']\n",
    "new_list = t + r + o\n",
    "print (\"LIST AFTER CONCATENATION\", new_list)\n",
    "print(\"Repetition := \")\n",
    "p = [1, 2, 3]\n",
    "print(p *2)"
   ]
  },
  {
   "cell_type": "code",
   "execution_count": 8,
   "id": "c3dd8e0c",
   "metadata": {},
   "outputs": [
    {
     "name": "stdout",
     "output_type": "stream",
     "text": [
      "Nested List\n",
      "[10, 20, 30, 40, [50, 60]]\n",
      "40\n",
      "[50, 60]\n",
      "60\n",
      "Mergeing Two List\n",
      "[69, 25, 569, [10, 20, 30, 40, [50, 60]]]\n"
     ]
    }
   ],
   "source": [
    "print(\"Nested List\")\n",
    "a = [10,20,30,40,[50,60]]\n",
    "print(a)\n",
    "print (a[3])\n",
    "print (a[4])\n",
    "print (a[4][1])\n",
    "print(\"Mergeing Two List\")\n",
    "b = [69,25,569,a]\n",
    "print(b)\n"
   ]
  },
  {
   "cell_type": "code",
   "execution_count": 11,
   "id": "b5a00b61",
   "metadata": {},
   "outputs": [
    {
     "name": "stdout",
     "output_type": "stream",
     "text": [
      "Passing List In Function\n",
      "[10, 20, 30, 'HELLO WOELD']\n",
      "<class 'list'>\n",
      "10\n",
      "20\n",
      "30\n",
      "HELLO WOELD\n"
     ]
    }
   ],
   "source": [
    "print(\"Passing List In Function\")\n",
    "def show(l):\n",
    "    print (l)\n",
    "    print (type(l))\n",
    "    for i in l:\n",
    "        print (i)\n",
    "lst = [10, 20, 30, 'HELLO WOELD']\n",
    "show(lst)"
   ]
  },
  {
   "cell_type": "code",
   "execution_count": 12,
   "id": "4dc50013",
   "metadata": {},
   "outputs": [
    {
     "name": "stdout",
     "output_type": "stream",
     "text": [
      "Passing And Returing List In Function\n",
      "[10, 20, 30, 'HELLO WORLD']\n",
      "<class 'list'>\n",
      "10\n",
      "20\n",
      "30\n",
      "HELLO WORLD\n",
      "[10, 20, 30, 'HELLO WORLD']\n",
      "<class 'list'>\n"
     ]
    }
   ],
   "source": [
    "print(\"Passing And Returing List In Function\")\n",
    "def show (l):\n",
    "    print (l)\n",
    "    print(type(l))\n",
    "    for i in l:\n",
    "        print (i)\n",
    "    return l\n",
    "lst = [10, 20, 30, 'HELLO WORLD']\n",
    "new_lst = show(lst)\n",
    "print (new_lst)\n",
    "print (type(new_lst))"
   ]
  },
  {
   "cell_type": "code",
   "execution_count": 13,
   "id": "90fd5e5b",
   "metadata": {},
   "outputs": [
    {
     "name": "stdout",
     "output_type": "stream",
     "text": [
      "Filter Function\n",
      "NEW LIST IS :-  [60, 80, 90, 65]\n",
      "<class 'list'>\n",
      "60\n",
      "80\n",
      "90\n",
      "65\n"
     ]
    }
   ],
   "source": [
    "print(\"Filter Function\")\n",
    "a = [10,50,60,80,90,5,45,65]\n",
    "def high_marks(n):\n",
    "    if n>=60:\n",
    "        return True\n",
    "result01 = list(filter(high_marks, a))\n",
    "print (\"NEW LIST IS :- \", result01)\n",
    "print(type(result01))\n",
    "for i in result01:\n",
    "    print (i)"
   ]
  },
  {
   "cell_type": "code",
   "execution_count": 17,
   "id": "eccd1916",
   "metadata": {},
   "outputs": [
    {
     "name": "stdout",
     "output_type": "stream",
     "text": [
      "[]\n",
      "ENTER NUMBER OF ELEMENTS IN THE LIST :- 4\n",
      "ENTER THE ELEMENTS OF THE LIST :- 7\n",
      "ENTER THE ELEMENTS OF THE LIST :- 8\n",
      "ENTER THE ELEMENTS OF THE LIST :- 5\n",
      "ENTER THE ELEMENTS OF THE LIST :- 2\n",
      "THE LIST IS :-  ['7', '8', '5', '2']\n",
      " Without Index Number \n",
      "LIST :\n",
      "7\n",
      "8\n",
      "5\n",
      "2\n",
      " With Index Number \n",
      "Index 0 = 7\n",
      "Index 1 = 8\n",
      "Index 2 = 5\n",
      "Index 3 = 2\n"
     ]
    }
   ],
   "source": [
    "a = []\n",
    "print (a)\n",
    "n = int (input(\"ENTER NUMBER OF ELEMENTS IN THE LIST :- \"))\n",
    "for i in range (n):\n",
    "    a.append(input(\"ENTER THE ELEMENTS OF THE LIST :- \"))\n",
    "print (\"THE LIST IS :- \", a)\n",
    "print (\" Without Index Number \")\n",
    "print (\"LIST :\")\n",
    "for element in a:\n",
    "    print (element)\n",
    "print (\" With Index Number \")\n",
    "k = len (a)\n",
    "for i in range(k):\n",
    "\tprint (\"Index\", i, \"=\", a[i]) "
   ]
  },
  {
   "cell_type": "code",
   "execution_count": null,
   "id": "a5f042f0",
   "metadata": {},
   "outputs": [],
   "source": []
  }
 ],
 "metadata": {
  "kernelspec": {
   "display_name": "Python 3.8.10 64-bit",
   "language": "python",
   "name": "python3810jvsc74a57bd031f2aee4e71d21fbe5cf8b01ff0e069b9275f58929596ceb00d14d90e3e16cd6"
  },
  "language_info": {
   "codemirror_mode": {
    "name": "ipython",
    "version": 3
   },
   "file_extension": ".py",
   "mimetype": "text/x-python",
   "name": "python",
   "nbconvert_exporter": "python",
   "pygments_lexer": "ipython3",
   "version": "3.8.10"
  }
 },
 "nbformat": 4,
 "nbformat_minor": 5
}
