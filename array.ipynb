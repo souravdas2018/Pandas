{
 "cells": [
  {
   "cell_type": "code",
   "execution_count": 1,
   "id": "ed0bf8eb",
   "metadata": {},
   "outputs": [],
   "source": [
    "from array import *"
   ]
  },
  {
   "cell_type": "code",
   "execution_count": 37,
   "id": "37de0837",
   "metadata": {},
   "outputs": [
    {
     "name": "stdout",
     "output_type": "stream",
     "text": [
      "Printing Array Elements Without Any Index No. :- \n",
      "101\n",
      "102\n",
      "103\n",
      "104\n",
      "105\n",
      "106\n"
     ]
    }
   ],
   "source": [
    "stu_roll = array ('i', [101, 102, 103, 104, 105, 106])\n",
    "print(\"Printing Array Elements Without Any Index No. :- \")\n",
    "for element in stu_roll:\n",
    "    print (element)"
   ]
  },
  {
   "cell_type": "code",
   "execution_count": 28,
   "id": "7002d440",
   "metadata": {},
   "outputs": [
    {
     "name": "stdout",
     "output_type": "stream",
     "text": [
      "Index Of A Particular Element :-  4\n",
      "Printing Array Elements With Index No. :- \n",
      "Index 0 = 101\n",
      "Index 1 = 102\n",
      "Index 2 = 103\n",
      "Index 3 = 104\n",
      "Index 4 = 105\n",
      "Index 5 = 106\n"
     ]
    }
   ],
   "source": [
    "print (\"Index Of A Particular Element :- \",stu_roll.index(105))\n",
    "n = len (stu_roll)\n",
    "print(\"Printing Array Elements With Index No. :- \")\n",
    "for i in range(n):\n",
    "\tprint (\"Index\", i, \"=\", stu_roll[i]) "
   ]
  },
  {
   "cell_type": "code",
   "execution_count": 38,
   "id": "16eb3536",
   "metadata": {},
   "outputs": [
    {
     "name": "stdout",
     "output_type": "stream",
     "text": [
      "Extending Array\n",
      "101\n",
      "102\n",
      "103\n",
      "104\n",
      "105\n",
      "106\n",
      "107\n",
      "108\n",
      "109\n",
      "110\n"
     ]
    }
   ],
   "source": [
    "print (\"Extending Array\")\n",
    "arr = array('i', [107,108,109,110])\n",
    "stu_roll.extend(arr)\n",
    "for element in stu_roll:\n",
    "    print (element)"
   ]
  },
  {
   "cell_type": "code",
   "execution_count": 33,
   "id": "95e9ec99",
   "metadata": {},
   "outputs": [
    {
     "name": "stdout",
     "output_type": "stream",
     "text": [
      "Array Reverse\n",
      "array('i', [110, 109, 108, 107, 106, 105, 104, 103, 102, 101])\n"
     ]
    }
   ],
   "source": [
    "print (\"Array Reverse\")\n",
    "stu_roll.reverse()\n",
    "# for element in stu_roll:\n",
    "# \tprint (element)\n",
    "print(stu_roll)"
   ]
  },
  {
   "cell_type": "code",
   "execution_count": 39,
   "id": "edc3feab",
   "metadata": {
    "scrolled": true
   },
   "outputs": [
    {
     "name": "stdout",
     "output_type": "stream",
     "text": [
      "array('i', [101, 102, 103, 104, 105, 106, 107, 109, 110])\n"
     ]
    }
   ],
   "source": [
    "stu_roll.remove(108)\n",
    "print(stu_roll)"
   ]
  },
  {
   "cell_type": "code",
   "execution_count": 24,
   "id": "4a8eba6f",
   "metadata": {},
   "outputs": [
    {
     "name": "stdout",
     "output_type": "stream",
     "text": [
      "*****Array After Append******\n",
      "array('i', [8, 6, 4, 1066, 1077])\n",
      "*****Array After Insert*****\n",
      "array('i', [8, 6, 4, 1066, 1077, 1110, 1112])\n",
      "*****Popped Elements*****\n",
      "1112\n",
      "1110\n",
      "1077\n",
      "Array After Popping := \n",
      "array('i', [8, 6, 4, 1066])\n"
     ]
    }
   ],
   "source": [
    "print(\"*****Array After Append******\")\n",
    "# # add elements at the end of the array\n",
    "\n",
    "stu_roll.append(1066)\n",
    "stu_roll.append(1077)\n",
    "print(stu_roll)\n",
    "\n",
    "print (\"*****Array After Insert*****\")\n",
    "\n",
    "stu_roll.insert(5,1110)\n",
    "stu_roll.insert(6,1112)\n",
    "print(stu_roll)\n",
    "\n",
    "print (\"*****Popped Elements*****\")\n",
    "# Poping just the last element\n",
    "\n",
    "print(stu_roll.pop())   \n",
    "print(stu_roll.pop())\n",
    "print(stu_roll.pop())\n",
    "\n",
    "print(\"Array After Popping := \")\n",
    "print(stu_roll)"
   ]
  },
  {
   "cell_type": "code",
   "execution_count": 21,
   "id": "2b7e1922",
   "metadata": {},
   "outputs": [
    {
     "name": "stdout",
     "output_type": "stream",
     "text": [
      "SLICING OF ARRAY 01\n",
      "109\n",
      "108\n",
      "107\n",
      "110\n",
      "SLICING OF ARRAY 02\n",
      "109\n",
      "108\n",
      "107\n",
      "110\n",
      "1110\n",
      "SLICING OF ARRAY Mixed\n",
      "110\n",
      "109\n",
      "108\n",
      "107\n",
      "110\n"
     ]
    }
   ],
   "source": [
    "print(\"SLICING OF ARRAY 01\")\n",
    "a = stu_roll[1:5]\n",
    "for i in a :\n",
    "    print(i)\n",
    "\n",
    "print(\"SLICING OF ARRAY 02\")\n",
    "\n",
    "b= stu_roll[1:(5+1)]\n",
    "for i in b :\n",
    "    print(i)\n",
    "\n",
    "print(\"SLICING OF ARRAY Mixed\")\n",
    "\n",
    "# c = stu_roll[:]\n",
    "c = stu_roll[0:5]  \n",
    "# c = stu_roll[0:]\n",
    "# c = stu_roll[:5]\n",
    "# c = stu_roll[0:3:8]\n",
    "for i in c :\n",
    "    print(i)"
   ]
  },
  {
   "cell_type": "code",
   "execution_count": 22,
   "id": "cb74d9dd",
   "metadata": {},
   "outputs": [
    {
     "name": "stdout",
     "output_type": "stream",
     "text": [
      "User Input\n",
      "Enter No. Of Elements :-3\n",
      "Enter Elements :- 8\n",
      "Enter Elements :- 6\n",
      "Enter Elements :- 4\n",
      "The Array  With Their Corrosponding Index No. Is\n",
      "Index 0 = 8\n",
      "Index 1 = 6\n",
      "Index 2 = 4\n"
     ]
    }
   ],
   "source": [
    "print(\"User Input :=\")\n",
    "stu_roll = array('i', [])\n",
    "n = int(input(\"Enter No. Of Elements :-\"))\n",
    "\n",
    "for i in range(n):\n",
    "    stu_roll.append(int(input(\"Enter Elements :- \")))\n",
    "    \n",
    "print (\"The Array  With Their Corrosponding Index No. Is\")\n",
    "for i in range (len(stu_roll)):\n",
    "    print (\"Index\", i, \"=\", stu_roll[i])"
   ]
  },
  {
   "cell_type": "code",
   "execution_count": null,
   "id": "521cda9f",
   "metadata": {},
   "outputs": [],
   "source": []
  }
 ],
 "metadata": {
  "kernelspec": {
   "display_name": "Python 3.8.10 64-bit",
   "language": "python",
   "name": "python3810jvsc74a57bd031f2aee4e71d21fbe5cf8b01ff0e069b9275f58929596ceb00d14d90e3e16cd6"
  },
  "language_info": {
   "codemirror_mode": {
    "name": "ipython",
    "version": 3
   },
   "file_extension": ".py",
   "mimetype": "text/x-python",
   "name": "python",
   "nbconvert_exporter": "python",
   "pygments_lexer": "ipython3",
   "version": "3.8.10"
  }
 },
 "nbformat": 4,
 "nbformat_minor": 5
}
